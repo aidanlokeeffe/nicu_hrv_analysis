{
 "cells": [
  {
   "cell_type": "code",
   "execution_count": 1,
   "metadata": {},
   "outputs": [],
   "source": [
    "import numpy as np\n",
    "import pandas as pd\n",
    "\n",
    "from gc import collect as collect_garbage\n",
    "from psutil import virtual_memory"
   ]
  },
  {
   "cell_type": "code",
   "execution_count": 17,
   "metadata": {},
   "outputs": [],
   "source": [
    "shift2 = 4406400.1532890278\n",
    "shift3 = 188382.53442444"
   ]
  },
  {
   "cell_type": "code",
   "execution_count": 18,
   "metadata": {},
   "outputs": [],
   "source": [
    "in_folder = \"../../Deidentified-Raw-Waveforms/\"\n",
    "out_folder = in_folder + \"06-shifted-2-and-3/\"\n",
    "files2 = [\"raw_waves_data_2a.csv\", \"raw_waves_data_2b.csv\"]\n",
    "files3 = [\"raw_waves_data_3a.csv\", \"raw_waves_data_3b.csv\"]"
   ]
  },
  {
   "cell_type": "code",
   "execution_count": 19,
   "metadata": {},
   "outputs": [],
   "source": [
    "shifts = [shift2, shift2, shift3, shift3]\n",
    "files = files2 + files3"
   ]
  },
  {
   "cell_type": "code",
   "execution_count": 20,
   "metadata": {},
   "outputs": [
    {
     "name": "stdout",
     "output_type": "stream",
     "text": [
      "svmem(total=12655771648, available=5737152512, percent=54.7, used=6918619136, free=5737152512)\n",
      "svmem(total=12655771648, available=5565956096, percent=56.0, used=7089815552, free=5565956096)\n",
      "svmem(total=12655771648, available=6295240704, percent=50.3, used=6360530944, free=6295240704)\n",
      "svmem(total=12655771648, available=6043422720, percent=52.2, used=6612348928, free=6043422720)\n"
     ]
    }
   ],
   "source": [
    "for i in range(4):\n",
    "    df = pd.read_csv(in_folder + files[i])\n",
    "    df[\"time\"] = df[\"time\"] + shifts[i]\n",
    "    df.to_csv(out_folder + files[i], index=False)\n",
    "\n",
    "    del df\n",
    "    collect_garbage()\n",
    "    print(virtual_memory())"
   ]
  }
 ],
 "metadata": {
  "kernelspec": {
   "display_name": "Python 3.9.2 64-bit",
   "language": "python",
   "name": "python3"
  },
  "language_info": {
   "codemirror_mode": {
    "name": "ipython",
    "version": 3
   },
   "file_extension": ".py",
   "mimetype": "text/x-python",
   "name": "python",
   "nbconvert_exporter": "python",
   "pygments_lexer": "ipython3",
   "version": "3.9.2"
  },
  "orig_nbformat": 4,
  "vscode": {
   "interpreter": {
    "hash": "3b66384013171cdfccbfda8d4f96d2b3b6a10bf536bc42f61d1fe50046d47db0"
   }
  }
 },
 "nbformat": 4,
 "nbformat_minor": 2
}
