{
 "cells": [
  {
   "cell_type": "code",
   "execution_count": 1,
   "metadata": {},
   "outputs": [],
   "source": [
    "import numpy as np\n",
    "import pandas as pd\n",
    "import matplotlib.pyplot as plt\n",
    "import seaborn as sns\n",
    "\n",
    "from gc import collect as collect_garbage\n",
    "from psutil import virtual_memory\n",
    "from os import scandir"
   ]
  },
  {
   "cell_type": "code",
   "execution_count": 2,
   "metadata": {},
   "outputs": [],
   "source": [
    "%matplotlib widget"
   ]
  },
  {
   "cell_type": "code",
   "execution_count": 3,
   "metadata": {},
   "outputs": [],
   "source": [
    "# Load in the data\n",
    "df = pd.read_csv(\"01-unfiltered-rr-intervals/unfiltered-rr-intervals_1.csv\")"
   ]
  },
  {
   "cell_type": "code",
   "execution_count": 4,
   "metadata": {},
   "outputs": [
    {
     "data": {
      "text/plain": [
       "svmem(total=12655771648, available=7857713152, percent=37.9, used=4798058496, free=7857713152)"
      ]
     },
     "execution_count": 4,
     "metadata": {},
     "output_type": "execute_result"
    }
   ],
   "source": [
    "virtual_memory()"
   ]
  },
  {
   "cell_type": "code",
   "execution_count": 5,
   "metadata": {},
   "outputs": [
    {
     "data": {
      "text/plain": [
       "svmem(total=12655771648, available=7832489984, percent=38.1, used=4823281664, free=7832489984)"
      ]
     },
     "execution_count": 5,
     "metadata": {},
     "output_type": "execute_result"
    }
   ],
   "source": [
    "# STEP 1: Flag any intervals of length less than 0.25 seconds (as this is physiologically unrealistic according to Alan), drop them, and then recalculate the RR intervals.\n",
    "# This is equivalent to \"folding in\" each small interval into the next.\n",
    "filt = df[\"interval\"] >= 0.25\n",
    "\n",
    "new_df = pd.DataFrame.copy(df.loc[filt], deep=True)\n",
    "new_df.reset_index(inplace=True, drop=True)\n",
    "\n",
    "new_df[\"interval\"] = new_df[\"time\"].diff()\n",
    "\n",
    "del df\n",
    "collect_garbage()\n",
    "\n",
    "df = pd.DataFrame.copy(new_df, deep=True)\n",
    "del new_df\n",
    "collect_garbage()\n",
    "\n",
    "virtual_memory()"
   ]
  },
  {
   "cell_type": "code",
   "execution_count": 6,
   "metadata": {},
   "outputs": [
    {
     "name": "stdout",
     "output_type": "stream",
     "text": [
      "0.25000619888305664\n"
     ]
    }
   ],
   "source": [
    "# Confirm that intervals are of length at least 0.25\n",
    "print( df[\"interval\"].min() )"
   ]
  },
  {
   "cell_type": "code",
   "execution_count": 7,
   "metadata": {},
   "outputs": [],
   "source": [
    "# STEP 2: Remove any intervals of length greater than 10 seconds. This is an arbitrary threshold because it is not trivial to tell whether a long interval is due to \n",
    "# missing data (be that truly missing data or a segment corresponding to a trough in the raw ECG), or if it is due to a segment of beats left undetected by XQRS, so there's\n",
    "# room for improvement at this step\n",
    "# Also, note that this filter drops the NA value in the beginning, which is totally fine.\n",
    "\n",
    "# In previous tests, the median was off center. We can try a lower threshold and see if that helps us here.\n",
    "\n",
    "filt = df[\"interval\"] <= 5\n",
    "df = df.loc[filt]"
   ]
  },
  {
   "cell_type": "code",
   "execution_count": 8,
   "metadata": {},
   "outputs": [
    {
     "name": "stdout",
     "output_type": "stream",
     "text": [
      "4.8574724197387695\n"
     ]
    }
   ],
   "source": [
    "# Verify that this worked\n",
    "print( df[\"interval\"].max() )"
   ]
  },
  {
   "cell_type": "code",
   "execution_count": 9,
   "metadata": {},
   "outputs": [],
   "source": [
    "df.reset_index(inplace=True, drop=True)"
   ]
  },
  {
   "cell_type": "code",
   "execution_count": 10,
   "metadata": {},
   "outputs": [],
   "source": [
    "# STEP 3: Get rif of multiple intervals\n",
    "# Reset the index of df to the times so that the following code works\n",
    "df.set_index(df[\"time\"],inplace=True)\n",
    "df.drop(\"time\", inplace=True, axis=1)"
   ]
  },
  {
   "cell_type": "code",
   "execution_count": 11,
   "metadata": {},
   "outputs": [],
   "source": [
    "df_buffer = pd.DataFrame.copy(df, deep=True)"
   ]
  },
  {
   "cell_type": "code",
   "execution_count": 12,
   "metadata": {},
   "outputs": [
    {
     "data": {
      "text/plain": [
       "svmem(total=12655771648, available=7818608640, percent=38.2, used=4837163008, free=7818608640)"
      ]
     },
     "execution_count": 12,
     "metadata": {},
     "output_type": "execute_result"
    }
   ],
   "source": [
    "virtual_memory()"
   ]
  },
  {
   "cell_type": "code",
   "execution_count": 13,
   "metadata": {},
   "outputs": [],
   "source": [
    "# Now, we're gonna try iterrows"
   ]
  },
  {
   "cell_type": "code",
   "execution_count": 14,
   "metadata": {},
   "outputs": [],
   "source": [
    "# Form a generator to iterate over the rows\n",
    "rows = df_buffer.iterrows()\n",
    "\n",
    "# Get the initial values\n",
    "prev_idx, prev_row = next(rows)\n",
    "prev_ivl = prev_row[\"interval\"]\n",
    "\n",
    "# A counter to see how many beats were imputed\n",
    "imputed = 0\n",
    "max_imputed = 0\n",
    "\n",
    "for curr_idx, curr_row in rows:\n",
    "    curr_ivl = curr_row[\"interval\"]\n",
    "    \n",
    "    pieces = round(curr_ivl/prev_ivl)\n",
    "\n",
    "    if pieces >= 2: # then it is likely that the current interval is a multiple interval\n",
    "        fill_value = curr_ivl / pieces\n",
    "\n",
    "        while fill_value < 0.25: # We have too many pieces and the beats are unrealistically small (i.e. < 0.25 seconds)\n",
    "            pieces -= 1\n",
    "            fill_value = curr_ivl/pieces\n",
    "            if pieces == 1:\n",
    "                break\n",
    "        \n",
    "        if pieces == 1: # Then there's not point in carrying on with this iteration, update previous values and continue\n",
    "            prev_idx = curr_idx\n",
    "            prev_ivl = curr_ivl\n",
    "            continue\n",
    "\n",
    "        imputed += pieces\n",
    "        max_imputed = max(max_imputed, pieces)\n",
    "\n",
    "        # Otherwise, we impute the RR intervals, modifying df and NOT df_buffer\n",
    "        endpoints = [prev_idx + i*fill_value for i in range(1, pieces)] + [curr_idx]\n",
    "        for t in endpoints:\n",
    "            df.loc[t,\"interval\"] = fill_value\n",
    "    \n",
    "        # Now, we update the previous values ahead of the next iteration\n",
    "        prev_idx = curr_idx\n",
    "        prev_ivl = fill_value\n",
    "        continue\n",
    "\n",
    "    # If we didn't enter the pieces >= 2 case, then we need to update the previous values in a different way\n",
    "    prev_idx = curr_idx\n",
    "    prev_ivl = curr_ivl\n",
    "\n"
   ]
  },
  {
   "cell_type": "code",
   "execution_count": 17,
   "metadata": {},
   "outputs": [],
   "source": [
    "df.sort_index(inplace=True)"
   ]
  },
  {
   "cell_type": "code",
   "execution_count": 16,
   "metadata": {},
   "outputs": [
    {
     "data": {
      "text/plain": [
       "2"
      ]
     },
     "execution_count": 16,
     "metadata": {},
     "output_type": "execute_result"
    }
   ],
   "source": [
    "df.to_csv(\"rr_intervals_imputed_1.csv\")\n",
    "max(1,2)"
   ]
  },
  {
   "cell_type": "code",
   "execution_count": 19,
   "metadata": {},
   "outputs": [
    {
     "data": {
      "application/vnd.jupyter.widget-view+json": {
       "model_id": "4792c3241cbf4bb0ac751a6fc3957c52",
       "version_major": 2,
       "version_minor": 0
      },
      "image/png": "[encoded data removed]",
      "text/html": [
       "\n",
       "            <div style=\"display: inline-block;\">\n",
       "                <div class=\"jupyter-widgets widget-label\" style=\"text-align: center;\">\n",
       "                    Figure\n",
       "                </div>\n",
       "                <img src='data:image/png;base64,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' width=640.0/>\n",
       "            </div>\n",
       "        "
      ],
      "text/plain": [
       "Canvas(toolbar=Toolbar(toolitems=[('Home', 'Reset original view', 'home', 'home'), ('Back', 'Back to previous …"
      ]
     },
     "metadata": {},
     "output_type": "display_data"
    }
   ],
   "source": [
    "fig = plt.figure()\n",
    "plt.vlines(pd.Series(df_buffer.index), 0, df_buffer[\"interval\"], linewidth=1, color=\"red\")\n",
    "plt.vlines(pd.Series(df.index), 0, df[\"interval\"], linewidth=2, color=\"blue\")\n",
    "plt.xlabel(\"Time (sec)\")\n",
    "plt.ylabel(\"Interval Length (sec)\")\n",
    "plt.title(\"Original Intervals and Processed Intervals\")\n",
    "plt.show()"
   ]
  },
  {
   "cell_type": "code",
   "execution_count": 20,
   "metadata": {},
   "outputs": [
    {
     "name": "stdout",
     "output_type": "stream",
     "text": [
      "23143\n"
     ]
    }
   ],
   "source": [
    "print(imputed)"
   ]
  },
  {
   "cell_type": "code",
   "execution_count": 21,
   "metadata": {},
   "outputs": [
    {
     "name": "stdout",
     "output_type": "stream",
     "text": [
      "17\n"
     ]
    }
   ],
   "source": [
    "print(max_imputed)"
   ]
  },
  {
   "cell_type": "code",
   "execution_count": 21,
   "metadata": {},
   "outputs": [
    {
     "name": "stdout",
     "output_type": "stream",
     "text": [
      "The proportion of beats that are imputed is 0.011\n"
     ]
    }
   ],
   "source": [
    "print(\"The proportion of beats that are imputed is \" + str( round( imputed / len(df[\"interval\"]), 4 ) ))"
   ]
  },
  {
   "cell_type": "code",
   "execution_count": 22,
   "metadata": {},
   "outputs": [
    {
     "name": "stdout",
     "output_type": "stream",
     "text": [
      "The maximum number of imputed beats is 17\n"
     ]
    }
   ],
   "source": [
    "print(\"The maximum number of imputed beats is \" + str(max_imputed))"
   ]
  },
  {
   "cell_type": "code",
   "execution_count": null,
   "metadata": {},
   "outputs": [],
   "source": [
    "# One thing I didn't compute in this run that would be good to know is how many times the < 0.25 exception was thrown"
   ]
  },
  {
   "cell_type": "code",
   "execution_count": 23,
   "metadata": {},
   "outputs": [
    {
     "data": {
      "text/plain": [
       "4.986149584487535"
      ]
     },
     "execution_count": 23,
     "metadata": {},
     "output_type": "execute_result"
    }
   ],
   "source": [
    "1.8/0.361"
   ]
  },
  {
   "cell_type": "code",
   "execution_count": 20,
   "metadata": {},
   "outputs": [
    {
     "data": {
      "text/plain": [
       "svmem(total=12655771648, available=600690688, percent=95.3, used=12055080960, free=600690688)"
      ]
     },
     "execution_count": 20,
     "metadata": {},
     "output_type": "execute_result"
    }
   ],
   "source": [
    "virtual_memory()"
   ]
  },
  {
   "cell_type": "code",
   "execution_count": 23,
   "metadata": {},
   "outputs": [
    {
     "data": {
      "text/html": [
       "<div>\n",
       "<style scoped>\n",
       "    .dataframe tbody tr th:only-of-type {\n",
       "        vertical-align: middle;\n",
       "    }\n",
       "\n",
       "    .dataframe tbody tr th {\n",
       "        vertical-align: top;\n",
       "    }\n",
       "\n",
       "    .dataframe thead th {\n",
       "        text-align: right;\n",
       "    }\n",
       "</style>\n",
       "<table border=\"1\" class=\"dataframe\">\n",
       "  <thead>\n",
       "    <tr style=\"text-align: right;\">\n",
       "      <th></th>\n",
       "      <th>interval</th>\n",
       "    </tr>\n",
       "    <tr>\n",
       "      <th>time</th>\n",
       "      <th></th>\n",
       "    </tr>\n",
       "  </thead>\n",
       "  <tbody>\n",
       "    <tr>\n",
       "      <th>2.500043e-01</th>\n",
       "      <td>0.250004</td>\n",
       "    </tr>\n",
       "    <tr>\n",
       "      <th>2.500142e-01</th>\n",
       "      <td>0.250014</td>\n",
       "    </tr>\n",
       "    <tr>\n",
       "      <th>2.500170e-01</th>\n",
       "      <td>0.250017</td>\n",
       "    </tr>\n",
       "    <tr>\n",
       "      <th>2.500656e-01</th>\n",
       "      <td>0.250066</td>\n",
       "    </tr>\n",
       "    <tr>\n",
       "      <th>2.500730e-01</th>\n",
       "      <td>0.250073</td>\n",
       "    </tr>\n",
       "    <tr>\n",
       "      <th>...</th>\n",
       "      <td>...</td>\n",
       "    </tr>\n",
       "    <tr>\n",
       "      <th>1.641598e+06</th>\n",
       "      <td>0.376226</td>\n",
       "    </tr>\n",
       "    <tr>\n",
       "      <th>1.641599e+06</th>\n",
       "      <td>0.382623</td>\n",
       "    </tr>\n",
       "    <tr>\n",
       "      <th>1.641599e+06</th>\n",
       "      <td>0.368281</td>\n",
       "    </tr>\n",
       "    <tr>\n",
       "      <th>1.641599e+06</th>\n",
       "      <td>0.358440</td>\n",
       "    </tr>\n",
       "    <tr>\n",
       "      <th>1.641600e+06</th>\n",
       "      <td>0.372086</td>\n",
       "    </tr>\n",
       "  </tbody>\n",
       "</table>\n",
       "<p>2098404 rows × 1 columns</p>\n",
       "</div>"
      ],
      "text/plain": [
       "              interval\n",
       "time                  \n",
       "2.500043e-01  0.250004\n",
       "2.500142e-01  0.250014\n",
       "2.500170e-01  0.250017\n",
       "2.500656e-01  0.250066\n",
       "2.500730e-01  0.250073\n",
       "...                ...\n",
       "1.641598e+06  0.376226\n",
       "1.641599e+06  0.382623\n",
       "1.641599e+06  0.368281\n",
       "1.641599e+06  0.358440\n",
       "1.641600e+06  0.372086\n",
       "\n",
       "[2098404 rows x 1 columns]"
      ]
     },
     "execution_count": 23,
     "metadata": {},
     "output_type": "execute_result"
    }
   ],
   "source": [
    "df"
   ]
  },
  {
   "cell_type": "code",
   "execution_count": null,
   "metadata": {},
   "outputs": [],
   "source": []
  },
  {
   "cell_type": "code",
   "execution_count": 43,
   "metadata": {},
   "outputs": [
    {
     "ename": "KeyboardInterrupt",
     "evalue": "",
     "output_type": "error",
     "traceback": [
      "\u001b[1;31m---------------------------------------------------------------------------\u001b[0m",
      "\u001b[1;31mKeyboardInterrupt\u001b[0m                         Traceback (most recent call last)",
      "\u001b[1;32m~\\AppData\\Local\\Temp/ipykernel_7900/23690288.py\u001b[0m in \u001b[0;36m<module>\u001b[1;34m\u001b[0m\n\u001b[0;32m     18\u001b[0m         \u001b[0mendpoints\u001b[0m \u001b[1;33m=\u001b[0m \u001b[1;33m[\u001b[0m\u001b[0mi\u001b[0m\u001b[1;33m*\u001b[0m\u001b[0mfill_value\u001b[0m \u001b[1;32mfor\u001b[0m \u001b[0mi\u001b[0m \u001b[1;32min\u001b[0m \u001b[0mrange\u001b[0m\u001b[1;33m(\u001b[0m\u001b[1;36m1\u001b[0m\u001b[1;33m,\u001b[0m \u001b[0mpieces\u001b[0m\u001b[1;33m)\u001b[0m\u001b[1;33m]\u001b[0m \u001b[1;33m+\u001b[0m \u001b[1;33m[\u001b[0m\u001b[0mcurr\u001b[0m\u001b[1;33m]\u001b[0m\u001b[1;33m\u001b[0m\u001b[1;33m\u001b[0m\u001b[0m\n\u001b[0;32m     19\u001b[0m         \u001b[1;32mfor\u001b[0m \u001b[0mt\u001b[0m \u001b[1;32min\u001b[0m \u001b[0mendpoints\u001b[0m\u001b[1;33m:\u001b[0m\u001b[1;33m\u001b[0m\u001b[1;33m\u001b[0m\u001b[0m\n\u001b[1;32m---> 20\u001b[1;33m             \u001b[0mdf\u001b[0m\u001b[1;33m.\u001b[0m\u001b[0mloc\u001b[0m\u001b[1;33m[\u001b[0m\u001b[0mt\u001b[0m\u001b[1;33m,\u001b[0m \u001b[1;34m\"interval\"\u001b[0m\u001b[1;33m]\u001b[0m \u001b[1;33m=\u001b[0m \u001b[0mfill_value\u001b[0m\u001b[1;33m\u001b[0m\u001b[1;33m\u001b[0m\u001b[0m\n\u001b[0m\u001b[0;32m     21\u001b[0m \u001b[1;33m\u001b[0m\u001b[0m\n\u001b[0;32m     22\u001b[0m \u001b[0mdf\u001b[0m\u001b[1;33m.\u001b[0m\u001b[0msort_index\u001b[0m\u001b[1;33m(\u001b[0m\u001b[0minplace\u001b[0m\u001b[1;33m=\u001b[0m\u001b[1;32mTrue\u001b[0m\u001b[1;33m)\u001b[0m\u001b[1;33m\u001b[0m\u001b[1;33m\u001b[0m\u001b[0m\n",
      "\u001b[1;32m~\\AppData\\Roaming\\Python\\Python39\\site-packages\\pandas\\core\\indexing.py\u001b[0m in \u001b[0;36m__setitem__\u001b[1;34m(self, key, value)\u001b[0m\n\u001b[0;32m    721\u001b[0m \u001b[1;33m\u001b[0m\u001b[0m\n\u001b[0;32m    722\u001b[0m         \u001b[0miloc\u001b[0m \u001b[1;33m=\u001b[0m \u001b[0mself\u001b[0m \u001b[1;32mif\u001b[0m \u001b[0mself\u001b[0m\u001b[1;33m.\u001b[0m\u001b[0mname\u001b[0m \u001b[1;33m==\u001b[0m \u001b[1;34m\"iloc\"\u001b[0m \u001b[1;32melse\u001b[0m \u001b[0mself\u001b[0m\u001b[1;33m.\u001b[0m\u001b[0mobj\u001b[0m\u001b[1;33m.\u001b[0m\u001b[0miloc\u001b[0m\u001b[1;33m\u001b[0m\u001b[1;33m\u001b[0m\u001b[0m\n\u001b[1;32m--> 723\u001b[1;33m         \u001b[0miloc\u001b[0m\u001b[1;33m.\u001b[0m\u001b[0m_setitem_with_indexer\u001b[0m\u001b[1;33m(\u001b[0m\u001b[0mindexer\u001b[0m\u001b[1;33m,\u001b[0m \u001b[0mvalue\u001b[0m\u001b[1;33m,\u001b[0m \u001b[0mself\u001b[0m\u001b[1;33m.\u001b[0m\u001b[0mname\u001b[0m\u001b[1;33m)\u001b[0m\u001b[1;33m\u001b[0m\u001b[1;33m\u001b[0m\u001b[0m\n\u001b[0m\u001b[0;32m    724\u001b[0m \u001b[1;33m\u001b[0m\u001b[0m\n\u001b[0;32m    725\u001b[0m     \u001b[1;32mdef\u001b[0m \u001b[0m_validate_key\u001b[0m\u001b[1;33m(\u001b[0m\u001b[0mself\u001b[0m\u001b[1;33m,\u001b[0m \u001b[0mkey\u001b[0m\u001b[1;33m,\u001b[0m \u001b[0maxis\u001b[0m\u001b[1;33m:\u001b[0m \u001b[0mint\u001b[0m\u001b[1;33m)\u001b[0m\u001b[1;33m:\u001b[0m\u001b[1;33m\u001b[0m\u001b[1;33m\u001b[0m\u001b[0m\n",
      "\u001b[1;32m~\\AppData\\Roaming\\Python\\Python39\\site-packages\\pandas\\core\\indexing.py\u001b[0m in \u001b[0;36m_setitem_with_indexer\u001b[1;34m(self, indexer, value, name)\u001b[0m\n\u001b[0;32m   1711\u001b[0m                     \u001b[0mself\u001b[0m\u001b[1;33m.\u001b[0m\u001b[0mobj\u001b[0m\u001b[1;33m.\u001b[0m\u001b[0m_is_copy\u001b[0m \u001b[1;33m=\u001b[0m \u001b[1;32mNone\u001b[0m\u001b[1;33m\u001b[0m\u001b[1;33m\u001b[0m\u001b[0m\n\u001b[0;32m   1712\u001b[0m \u001b[1;33m\u001b[0m\u001b[0m\n\u001b[1;32m-> 1713\u001b[1;33m                     \u001b[0mnindexer\u001b[0m\u001b[1;33m.\u001b[0m\u001b[0mappend\u001b[0m\u001b[1;33m(\u001b[0m\u001b[0mlabels\u001b[0m\u001b[1;33m.\u001b[0m\u001b[0mget_loc\u001b[0m\u001b[1;33m(\u001b[0m\u001b[0mkey\u001b[0m\u001b[1;33m)\u001b[0m\u001b[1;33m)\u001b[0m\u001b[1;33m\u001b[0m\u001b[1;33m\u001b[0m\u001b[0m\n\u001b[0m\u001b[0;32m   1714\u001b[0m \u001b[1;33m\u001b[0m\u001b[0m\n\u001b[0;32m   1715\u001b[0m                 \u001b[1;32melse\u001b[0m\u001b[1;33m:\u001b[0m\u001b[1;33m\u001b[0m\u001b[1;33m\u001b[0m\u001b[0m\n",
      "\u001b[1;32m~\\AppData\\Roaming\\Python\\Python39\\site-packages\\pandas\\core\\indexes\\base.py\u001b[0m in \u001b[0;36mget_loc\u001b[1;34m(self, key, method, tolerance)\u001b[0m\n\u001b[0;32m   3359\u001b[0m             \u001b[0mcasted_key\u001b[0m \u001b[1;33m=\u001b[0m \u001b[0mself\u001b[0m\u001b[1;33m.\u001b[0m\u001b[0m_maybe_cast_indexer\u001b[0m\u001b[1;33m(\u001b[0m\u001b[0mkey\u001b[0m\u001b[1;33m)\u001b[0m\u001b[1;33m\u001b[0m\u001b[1;33m\u001b[0m\u001b[0m\n\u001b[0;32m   3360\u001b[0m             \u001b[1;32mtry\u001b[0m\u001b[1;33m:\u001b[0m\u001b[1;33m\u001b[0m\u001b[1;33m\u001b[0m\u001b[0m\n\u001b[1;32m-> 3361\u001b[1;33m                 \u001b[1;32mreturn\u001b[0m \u001b[0mself\u001b[0m\u001b[1;33m.\u001b[0m\u001b[0m_engine\u001b[0m\u001b[1;33m.\u001b[0m\u001b[0mget_loc\u001b[0m\u001b[1;33m(\u001b[0m\u001b[0mcasted_key\u001b[0m\u001b[1;33m)\u001b[0m\u001b[1;33m\u001b[0m\u001b[1;33m\u001b[0m\u001b[0m\n\u001b[0m\u001b[0;32m   3362\u001b[0m             \u001b[1;32mexcept\u001b[0m \u001b[0mKeyError\u001b[0m \u001b[1;32mas\u001b[0m \u001b[0merr\u001b[0m\u001b[1;33m:\u001b[0m\u001b[1;33m\u001b[0m\u001b[1;33m\u001b[0m\u001b[0m\n\u001b[0;32m   3363\u001b[0m                 \u001b[1;32mraise\u001b[0m \u001b[0mKeyError\u001b[0m\u001b[1;33m(\u001b[0m\u001b[0mkey\u001b[0m\u001b[1;33m)\u001b[0m \u001b[1;32mfrom\u001b[0m \u001b[0merr\u001b[0m\u001b[1;33m\u001b[0m\u001b[1;33m\u001b[0m\u001b[0m\n",
      "\u001b[1;31mKeyboardInterrupt\u001b[0m: "
     ]
    }
   ],
   "source": [
    "for i in range(1,len(times)):\n",
    "    prev = times[i-1]; curr = times[i]\n",
    "    pieces = round( df.loc[curr,\"interval\"] / df.loc[prev,\"interval\"])\n",
    "\n",
    "    if pieces >= 2: # Then it is likely that the current interval is a multiple interval\n",
    "        fill_value = df.loc[curr,\"interval\"] / pieces\n",
    "\n",
    "        while fill_value < 0.25: # We have too many pieces and the beats are unrealistically small (i.e. < 0.25 seconds)\n",
    "            pieces -= 1\n",
    "            fill_value = df.loc[curr,\"interval\"] / pieces\n",
    "            if pieces == 1:\n",
    "                break\n",
    "        \n",
    "        if pieces == 1: # Then there's no point in carrying on with this iteration\n",
    "            continue\n",
    "\n",
    "        # Otherwise, we impute the RR intervals in the most straightforward way\n",
    "        endpoints = [i*fill_value for i in range(1, pieces)] + [curr]\n",
    "        for t in endpoints:\n",
    "            df.loc[t, \"interval\"] = fill_value\n",
    "\n",
    "df.sort_index(inplace=True)\n",
    "\n",
    "\n",
    "# THIS IS WAAAY TOO SLOW\n",
    "    \n",
    "    \n",
    "\n"
   ]
  },
  {
   "cell_type": "code",
   "execution_count": 38,
   "metadata": {},
   "outputs": [
    {
     "data": {
      "text/plain": [
       "864001.1442410946"
      ]
     },
     "execution_count": 38,
     "metadata": {},
     "output_type": "execute_result"
    }
   ],
   "source": []
  },
  {
   "cell_type": "code",
   "execution_count": 42,
   "metadata": {},
   "outputs": [],
   "source": [
    "for i in range(1,1):\n",
    "    print(i)"
   ]
  },
  {
   "cell_type": "code",
   "execution_count": null,
   "metadata": {},
   "outputs": [],
   "source": []
  },
  {
   "cell_type": "code",
   "execution_count": null,
   "metadata": {},
   "outputs": [],
   "source": []
  },
  {
   "cell_type": "code",
   "execution_count": null,
   "metadata": {},
   "outputs": [],
   "source": []
  },
  {
   "cell_type": "code",
   "execution_count": 18,
   "metadata": {},
   "outputs": [
    {
     "data": {
      "application/vnd.jupyter.widget-view+json": {
       "model_id": "f8f5c1ab13f446d1a489b92d5a00a243",
       "version_major": 2,
       "version_minor": 0
      },
      "image/png": "[encoded data removed]",
      "text/html": [
       "\n",
       "            <div style=\"display: inline-block;\">\n",
       "                <div class=\"jupyter-widgets widget-label\" style=\"text-align: center;\">\n",
       "                    Figure\n",
       "                </div>\n",
       "                <img src='data:image/png;base64,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' width=640.0/>\n",
       "            </div>\n",
       "        "
      ],
      "text/plain": [
       "Canvas(toolbar=Toolbar(toolitems=[('Home', 'Reset original view', 'home', 'home'), ('Back', 'Back to previous …"
      ]
     },
     "metadata": {},
     "output_type": "display_data"
    }
   ],
   "source": [
    "# STEP 3: We're going to try Joshua's suggestion: For each interval, compare it's length to the last interval\n",
    "fig = plt.figure()\n",
    "plt.vlines(df[\"time\"], 0, df[\"interval\"], color=\"red\", linewidth=2)\n",
    "plt.xlabel(\"Time (sec)\")\n",
    "plt.ylabel(\"Interval Length (sec)\")\n",
    "plt.title(\"Interval Lengths Placed at Their End Times\")\n",
    "plt.show()\n",
    "    "
   ]
  },
  {
   "cell_type": "code",
   "execution_count": 33,
   "metadata": {},
   "outputs": [
    {
     "data": {
      "text/plain": [
       "svmem(total=12655771648, available=2306281472, percent=81.8, used=10349490176, free=2306281472)"
      ]
     },
     "execution_count": 33,
     "metadata": {},
     "output_type": "execute_result"
    }
   ],
   "source": [
    "virtual_memory()"
   ]
  },
  {
   "cell_type": "code",
   "execution_count": 10,
   "metadata": {},
   "outputs": [],
   "source": [
    "df_copy = pd.DataFrame.copy(df, deep=True)"
   ]
  },
  {
   "cell_type": "code",
   "execution_count": 32,
   "metadata": {},
   "outputs": [
    {
     "name": "stdout",
     "output_type": "stream",
     "text": [
      "322\n",
      "2\n"
     ]
    }
   ],
   "source": [
    "for i in range(1, len(df_copy[\"interval\"]) ):\n",
    "    pieces = round(df_copy.loc[i,\"interval\"] / df_copy.loc[i-1,\"interval\"])\n",
    "    if pieces > 1:\n",
    "        print(i)\n",
    "        print(pieces)\n",
    "        break"
   ]
  },
  {
   "cell_type": "code",
   "execution_count": 17,
   "metadata": {},
   "outputs": [],
   "source": [
    "test_df = pd.DataFrame([[1,2],[3,4],[5,6]])"
   ]
  },
  {
   "cell_type": "code",
   "execution_count": 18,
   "metadata": {},
   "outputs": [
    {
     "data": {
      "text/html": [
       "<div>\n",
       "<style scoped>\n",
       "    .dataframe tbody tr th:only-of-type {\n",
       "        vertical-align: middle;\n",
       "    }\n",
       "\n",
       "    .dataframe tbody tr th {\n",
       "        vertical-align: top;\n",
       "    }\n",
       "\n",
       "    .dataframe thead th {\n",
       "        text-align: right;\n",
       "    }\n",
       "</style>\n",
       "<table border=\"1\" class=\"dataframe\">\n",
       "  <thead>\n",
       "    <tr style=\"text-align: right;\">\n",
       "      <th></th>\n",
       "      <th>0</th>\n",
       "      <th>1</th>\n",
       "    </tr>\n",
       "  </thead>\n",
       "  <tbody>\n",
       "    <tr>\n",
       "      <th>0</th>\n",
       "      <td>1</td>\n",
       "      <td>2</td>\n",
       "    </tr>\n",
       "    <tr>\n",
       "      <th>1</th>\n",
       "      <td>3</td>\n",
       "      <td>4</td>\n",
       "    </tr>\n",
       "    <tr>\n",
       "      <th>2</th>\n",
       "      <td>5</td>\n",
       "      <td>6</td>\n",
       "    </tr>\n",
       "  </tbody>\n",
       "</table>\n",
       "</div>"
      ],
      "text/plain": [
       "   0  1\n",
       "0  1  2\n",
       "1  3  4\n",
       "2  5  6"
      ]
     },
     "execution_count": 18,
     "metadata": {},
     "output_type": "execute_result"
    }
   ],
   "source": [
    "test_df"
   ]
  },
  {
   "cell_type": "code",
   "execution_count": 20,
   "metadata": {},
   "outputs": [],
   "source": [
    "test_df.set_index(0, drop=True, inplace=True)"
   ]
  },
  {
   "cell_type": "code",
   "execution_count": 21,
   "metadata": {},
   "outputs": [
    {
     "data": {
      "text/html": [
       "<div>\n",
       "<style scoped>\n",
       "    .dataframe tbody tr th:only-of-type {\n",
       "        vertical-align: middle;\n",
       "    }\n",
       "\n",
       "    .dataframe tbody tr th {\n",
       "        vertical-align: top;\n",
       "    }\n",
       "\n",
       "    .dataframe thead th {\n",
       "        text-align: right;\n",
       "    }\n",
       "</style>\n",
       "<table border=\"1\" class=\"dataframe\">\n",
       "  <thead>\n",
       "    <tr style=\"text-align: right;\">\n",
       "      <th></th>\n",
       "      <th>1</th>\n",
       "    </tr>\n",
       "    <tr>\n",
       "      <th>0</th>\n",
       "      <th></th>\n",
       "    </tr>\n",
       "  </thead>\n",
       "  <tbody>\n",
       "    <tr>\n",
       "      <th>1</th>\n",
       "      <td>2</td>\n",
       "    </tr>\n",
       "    <tr>\n",
       "      <th>3</th>\n",
       "      <td>4</td>\n",
       "    </tr>\n",
       "    <tr>\n",
       "      <th>5</th>\n",
       "      <td>6</td>\n",
       "    </tr>\n",
       "  </tbody>\n",
       "</table>\n",
       "</div>"
      ],
      "text/plain": [
       "   1\n",
       "0   \n",
       "1  2\n",
       "3  4\n",
       "5  6"
      ]
     },
     "execution_count": 21,
     "metadata": {},
     "output_type": "execute_result"
    }
   ],
   "source": [
    "test_df"
   ]
  },
  {
   "cell_type": "code",
   "execution_count": 22,
   "metadata": {},
   "outputs": [],
   "source": [
    "test_df.loc[2, 1] = \"TEST\""
   ]
  },
  {
   "cell_type": "code",
   "execution_count": 23,
   "metadata": {},
   "outputs": [
    {
     "data": {
      "text/html": [
       "<div>\n",
       "<style scoped>\n",
       "    .dataframe tbody tr th:only-of-type {\n",
       "        vertical-align: middle;\n",
       "    }\n",
       "\n",
       "    .dataframe tbody tr th {\n",
       "        vertical-align: top;\n",
       "    }\n",
       "\n",
       "    .dataframe thead th {\n",
       "        text-align: right;\n",
       "    }\n",
       "</style>\n",
       "<table border=\"1\" class=\"dataframe\">\n",
       "  <thead>\n",
       "    <tr style=\"text-align: right;\">\n",
       "      <th></th>\n",
       "      <th>1</th>\n",
       "    </tr>\n",
       "    <tr>\n",
       "      <th>0</th>\n",
       "      <th></th>\n",
       "    </tr>\n",
       "  </thead>\n",
       "  <tbody>\n",
       "    <tr>\n",
       "      <th>1</th>\n",
       "      <td>2.0</td>\n",
       "    </tr>\n",
       "    <tr>\n",
       "      <th>3</th>\n",
       "      <td>4.0</td>\n",
       "    </tr>\n",
       "    <tr>\n",
       "      <th>5</th>\n",
       "      <td>6.0</td>\n",
       "    </tr>\n",
       "    <tr>\n",
       "      <th>2</th>\n",
       "      <td>TEST</td>\n",
       "    </tr>\n",
       "  </tbody>\n",
       "</table>\n",
       "</div>"
      ],
      "text/plain": [
       "      1\n",
       "0      \n",
       "1   2.0\n",
       "3   4.0\n",
       "5   6.0\n",
       "2  TEST"
      ]
     },
     "execution_count": 23,
     "metadata": {},
     "output_type": "execute_result"
    }
   ],
   "source": [
    "test_df"
   ]
  },
  {
   "cell_type": "code",
   "execution_count": 24,
   "metadata": {},
   "outputs": [],
   "source": [
    "test_df.sort_index(inplace=True)"
   ]
  },
  {
   "cell_type": "code",
   "execution_count": 25,
   "metadata": {},
   "outputs": [
    {
     "data": {
      "text/html": [
       "<div>\n",
       "<style scoped>\n",
       "    .dataframe tbody tr th:only-of-type {\n",
       "        vertical-align: middle;\n",
       "    }\n",
       "\n",
       "    .dataframe tbody tr th {\n",
       "        vertical-align: top;\n",
       "    }\n",
       "\n",
       "    .dataframe thead th {\n",
       "        text-align: right;\n",
       "    }\n",
       "</style>\n",
       "<table border=\"1\" class=\"dataframe\">\n",
       "  <thead>\n",
       "    <tr style=\"text-align: right;\">\n",
       "      <th></th>\n",
       "      <th>1</th>\n",
       "    </tr>\n",
       "    <tr>\n",
       "      <th>0</th>\n",
       "      <th></th>\n",
       "    </tr>\n",
       "  </thead>\n",
       "  <tbody>\n",
       "    <tr>\n",
       "      <th>1</th>\n",
       "      <td>2.0</td>\n",
       "    </tr>\n",
       "    <tr>\n",
       "      <th>2</th>\n",
       "      <td>TEST</td>\n",
       "    </tr>\n",
       "    <tr>\n",
       "      <th>3</th>\n",
       "      <td>4.0</td>\n",
       "    </tr>\n",
       "    <tr>\n",
       "      <th>5</th>\n",
       "      <td>6.0</td>\n",
       "    </tr>\n",
       "  </tbody>\n",
       "</table>\n",
       "</div>"
      ],
      "text/plain": [
       "      1\n",
       "0      \n",
       "1   2.0\n",
       "2  TEST\n",
       "3   4.0\n",
       "5   6.0"
      ]
     },
     "execution_count": 25,
     "metadata": {},
     "output_type": "execute_result"
    }
   ],
   "source": [
    "test_df"
   ]
  },
  {
   "cell_type": "code",
   "execution_count": null,
   "metadata": {},
   "outputs": [],
   "source": []
  }
 ],
 "metadata": {
  "kernelspec": {
   "display_name": "Python 3.9.2 64-bit",
   "language": "python",
   "name": "python3"
  },
  "language_info": {
   "codemirror_mode": {
    "name": "ipython",
    "version": 3
   },
   "file_extension": ".py",
   "mimetype": "text/x-python",
   "name": "python",
   "nbconvert_exporter": "python",
   "pygments_lexer": "ipython3",
   "version": "3.9.2"
  },
  "orig_nbformat": 4,
  "vscode": {
   "interpreter": {
    "hash": "3b66384013171cdfccbfda8d4f96d2b3b6a10bf536bc42f61d1fe50046d47db0"
   }
  }
 },
 "nbformat": 4,
 "nbformat_minor": 2
}
