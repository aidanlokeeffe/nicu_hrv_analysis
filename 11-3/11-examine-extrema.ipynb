{
 "cells": [
  {
   "cell_type": "code",
   "execution_count": 1,
   "metadata": {},
   "outputs": [],
   "source": [
    "import numpy as np\n",
    "import pandas as pd\n",
    "import matplotlib.pyplot as plt\n",
    "import wfdb\n",
    "\n",
    "from gc import collect as collect_garbage\n",
    "from psutil import virtual_memory\n",
    "from os import scandir"
   ]
  },
  {
   "cell_type": "code",
   "execution_count": 2,
   "metadata": {},
   "outputs": [],
   "source": [
    "# I don't have time to code this out at this point in time, but I can make a note of what I want to do, and then do it later\n",
    "# Examine a couple peaks and troughs from the files, decide if I'll throw them out or not\n",
    "# If I do throw them out (I probably will), then\n",
    "# 1) Load in the data and the annotations\n",
    "# 2) Assemble the signal as in the preceeding notebooks\n",
    "# 3) Store the signal in a dataframe with the times as the index\n",
    "# 4) Filter the timestamps based on if the corresponding ECG signal is inside of a certain range\n",
    "# 5) Write this filtered timestamp to another file\n",
    "# 6) Clean up after yourself"
   ]
  },
  {
   "cell_type": "code",
   "execution_count": 3,
   "metadata": {},
   "outputs": [],
   "source": [
    "# Once this is done, I want to combine all of the R peak timestamps into one file, and I'll write those to their own file\n",
    "# I need to make sure that I reset the index in these files, I think that'll make filling in any big gaps easier\n",
    "# After I have that file, I can go ahead and start writing sliding window code. Note that this may be difficult because the index in the RR interval file\n",
    "# is no longer time.\n",
    "# I also know the numerator has some lower bound on its size due to the missing data we'll get from throwing out the spikes"
   ]
  },
  {
   "cell_type": "code",
   "execution_count": null,
   "metadata": {},
   "outputs": [],
   "source": []
  }
 ],
 "metadata": {
  "kernelspec": {
   "display_name": "Python 3.9.2 64-bit",
   "language": "python",
   "name": "python3"
  },
  "language_info": {
   "codemirror_mode": {
    "name": "ipython",
    "version": 3
   },
   "file_extension": ".py",
   "mimetype": "text/x-python",
   "name": "python",
   "nbconvert_exporter": "python",
   "pygments_lexer": "ipython3",
   "version": "3.9.2"
  },
  "orig_nbformat": 4,
  "vscode": {
   "interpreter": {
    "hash": "3b66384013171cdfccbfda8d4f96d2b3b6a10bf536bc42f61d1fe50046d47db0"
   }
  }
 },
 "nbformat": 4,
 "nbformat_minor": 2
}
