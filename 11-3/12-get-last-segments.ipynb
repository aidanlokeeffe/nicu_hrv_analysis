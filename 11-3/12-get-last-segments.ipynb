{
 "cells": [
  {
   "cell_type": "code",
   "execution_count": 7,
   "metadata": {},
   "outputs": [],
   "source": [
    "import numpy as np\n",
    "import pandas as pd\n",
    "#import matplotlib.pyplot as plt\n",
    "#import wfdb\n",
    "from wfdb import processing\n",
    "\n",
    "from gc import collect as collect_garbage\n",
    "from psutil import virtual_memory\n",
    "from os import scandir"
   ]
  },
  {
   "cell_type": "code",
   "execution_count": 8,
   "metadata": {},
   "outputs": [],
   "source": [
    "%matplotlib widget"
   ]
  },
  {
   "cell_type": "code",
   "execution_count": 9,
   "metadata": {},
   "outputs": [],
   "source": [
    "folder = \"../../Deidentified-Raw-Waveforms/\"\n",
    "coldict = {\n",
    "    \"raw_waves_data_1a.csv\": [\"time\", \"257\"], \"raw_waves_data_1b.csv\": [\"time\", \"257\", \"258\"], \"raw_waves_data_1c.csv\": [\"time\", \"257\", \"258\"], \"raw_waves_data_1d.csv\": [\"time\", \"257\", \"258\", \"317\"], \n",
    "    \"raw_waves_data_1e.csv\": [\"time\", \"258\"],\n",
    "\n",
    "    \"raw_waves_data_2a.csv\": [\"time\", \"257\", \"258\"], \"raw_waves_data_2b.csv\": [\"time\", \"258\"], \"raw_waves_data_2c.csv\": [\"time\", \"257\"], \"raw_waves_data_2d.csv\": [\"time\", \"257\", \"258\"], \n",
    "    \"raw_waves_data_2e.csv\": [\"time\", \"257\", \"258\"],\n",
    "\n",
    "    \"raw_waves_data_3a.csv\": [\"time\", \"258\"], \"raw_waves_data_3b.csv\": [\"time\", \"258\"], \"raw_waves_data_3c.csv\": [\"time\", \"258\"], \"raw_waves_data_3d.csv\": [\"time\", \"258\"], \n",
    "    \"raw_waves_data_3e.csv\": [\"time\", \"257\", \"258\", \"317\"],\n",
    "\n",
    "    \"raw_waves_data_4a.csv\": [\"time\", \"257\", \"258\"], \"raw_waves_data_4b.csv\": [\"time\", \"257\", \"258\"], \"raw_waves_data_4c.csv\": [\"time\", \"257\"], \"raw_waves_data_4d.csv\": [\"time\", \"257\", \"258\"], \n",
    "    \"raw_waves_data_4e.csv\": [\"time\", \"257\", \"258\"],\n",
    "\n",
    "    \"raw_waves_data_5a.csv\": [\"time\", \"258\"], \"raw_waves_data_5b.csv\": [\"time\", \"258\"], \"raw_waves_data_5c.csv\": [\"time\", \"258\"], \"raw_waves_data_5d.csv\": [\"time\", \"258\", \"317\"],\n",
    "    \"raw_waves_data_5e.csv\": [\"time\", \"258\"],\n",
    "\n",
    "    \"raw_waves_data_6a.csv\": [\"time\", \"257\", \"258\"], \"raw_waves_data_6b.csv\": [\"time\", \"258\"], \"raw_waves_data_6c.csv\": [\"time\", \"258\"], \"raw_waves_data_6d.csv\": [\"time\", \"258\"], \"raw_waves_data_6e.csv\": [\"time\", \"258\"],\n",
    "    \n",
    "    \"raw_waves_data_7a.csv\": [\"time\", \"257\", \"258\"], \"raw_waves_data_7b.csv\": [\"time\", \"258\"], \"raw_waves_data_7c.csv\": [\"time\", \"258\"], \"raw_waves_data_7d.csv\": [\"time\", \"257\", \"258\", \"317\"], \n",
    "    \"raw_waves_data_7e.csv\": [\"time\", \"258\"]\n",
    "}\n",
    "\n",
    "namedict = {\n",
    "    \"raw_waves_data_1a.csv\": \"1a\", \"raw_waves_data_1b.csv\": \"1b\", \"raw_waves_data_1c.csv\": \"1c\", \"raw_waves_data_1d.csv\": \"1d\", \"raw_waves_data_1e.csv\": \"1e\",\n",
    "    \"raw_waves_data_2a.csv\": \"2a\", \"raw_waves_data_2b.csv\": \"2b\", \"raw_waves_data_2c.csv\": \"2c\", \"raw_waves_data_2d.csv\": \"2d\", \"raw_waves_data_2e.csv\": \"2e\",\n",
    "    \"raw_waves_data_3a.csv\": \"3a\", \"raw_waves_data_3b.csv\": \"3b\", \"raw_waves_data_3c.csv\": \"3c\", \"raw_waves_data_3d.csv\": \"3d\", \"raw_waves_data_3e.csv\": \"3e\",\n",
    "    \"raw_waves_data_4a.csv\": \"4a\", \"raw_waves_data_4b.csv\": \"4b\", \"raw_waves_data_4c.csv\": \"4c\", \"raw_waves_data_4d.csv\": \"4d\", \"raw_waves_data_4e.csv\": \"4e\",\n",
    "    \"raw_waves_data_5a.csv\": \"5a\", \"raw_waves_data_5b.csv\": \"5b\", \"raw_waves_data_5c.csv\": \"5c\", \"raw_waves_data_5d.csv\": \"5d\", \"raw_waves_data_5e.csv\": \"5e\",\n",
    "    \"raw_waves_data_6a.csv\": \"6a\", \"raw_waves_data_6b.csv\": \"6b\", \"raw_waves_data_6c.csv\": \"6c\", \"raw_waves_data_6d.csv\": \"6d\", \"raw_waves_data_6e.csv\": \"6e\",\n",
    "    \"raw_waves_data_7a.csv\": \"7a\", \"raw_waves_data_7b.csv\": \"7b\", \"raw_waves_data_7c.csv\": \"7c\", \"raw_waves_data_7d.csv\": \"7d\", \"raw_waves_data_7e.csv\": \"7e\"    \n",
    "}"
   ]
  },
  {
   "cell_type": "code",
   "execution_count": 10,
   "metadata": {},
   "outputs": [
    {
     "data": {
      "text/plain": [
       "svmem(total=12655771648, available=6319271936, percent=50.1, used=6336499712, free=6319271936)"
      ]
     },
     "execution_count": 10,
     "metadata": {},
     "output_type": "execute_result"
    }
   ],
   "source": [
    "collect_garbage()\n",
    "virtual_memory()"
   ]
  },
  {
   "cell_type": "code",
   "execution_count": 13,
   "metadata": {},
   "outputs": [],
   "source": [
    "files = [file.name for file in scandir(\"../../Deidentified-Raw-Waveforms/\")]\n",
    "remove_files = [\"raw_waves_data_7d.csv\", \"raw_waves_data_7e.csv\"]\n",
    "for i in range(20):\n",
    "    files.pop(0)\n",
    "\n",
    "for file in remove_files:\n",
    "    files.remove(file)"
   ]
  },
  {
   "cell_type": "code",
   "execution_count": 14,
   "metadata": {},
   "outputs": [
    {
     "data": {
      "text/plain": [
       "['raw_waves_data_5a.csv',\n",
       " 'raw_waves_data_5b.csv',\n",
       " 'raw_waves_data_5c.csv',\n",
       " 'raw_waves_data_5d.csv',\n",
       " 'raw_waves_data_5e.csv',\n",
       " 'raw_waves_data_6a.csv',\n",
       " 'raw_waves_data_6b.csv',\n",
       " 'raw_waves_data_6c.csv',\n",
       " 'raw_waves_data_6d.csv',\n",
       " 'raw_waves_data_6e.csv',\n",
       " 'raw_waves_data_7a.csv',\n",
       " 'raw_waves_data_7b.csv',\n",
       " 'raw_waves_data_7c.csv']"
      ]
     },
     "execution_count": 14,
     "metadata": {},
     "output_type": "execute_result"
    }
   ],
   "source": [
    "files"
   ]
  },
  {
   "cell_type": "code",
   "execution_count": 15,
   "metadata": {},
   "outputs": [
    {
     "name": "stdout",
     "output_type": "stream",
     "text": [
      "Starting now with file raw_waves_data_5a.csv\n",
      "svmem(total=12655771648, available=6400323584, percent=49.4, used=6255448064, free=6400323584)\n",
      "Data loaded in\n",
      "Signals combined and filled in\n",
      "Output file written\n",
      "File 5a processed\n",
      "svmem(total=12655771648, available=6479589376, percent=48.8, used=6176182272, free=6479589376)\n",
      "Starting now with file raw_waves_data_5b.csv\n",
      "svmem(total=12655771648, available=6479589376, percent=48.8, used=6176182272, free=6479589376)\n",
      "Data loaded in\n",
      "Signals combined and filled in\n",
      "Output file written\n",
      "File 5b processed\n",
      "svmem(total=12655771648, available=6344142848, percent=49.9, used=6311628800, free=6344142848)\n",
      "Starting now with file raw_waves_data_5c.csv\n",
      "svmem(total=12655771648, available=6344142848, percent=49.9, used=6311628800, free=6344142848)\n",
      "Data loaded in\n",
      "Signals combined and filled in\n",
      "Output file written\n",
      "File 5c processed\n",
      "svmem(total=12655771648, available=6827008000, percent=46.1, used=5828763648, free=6827008000)\n",
      "Starting now with file raw_waves_data_5d.csv\n",
      "svmem(total=12655771648, available=6827057152, percent=46.1, used=5828714496, free=6827057152)\n",
      "Data loaded in\n",
      "Signals combined and filled in\n",
      "Output file written\n",
      "File 5d processed\n",
      "svmem(total=12655771648, available=6844968960, percent=45.9, used=5810802688, free=6844968960)\n",
      "Starting now with file raw_waves_data_5e.csv\n",
      "svmem(total=12655771648, available=6845026304, percent=45.9, used=5810745344, free=6845026304)\n",
      "Data loaded in\n",
      "Signals combined and filled in\n",
      "Output file written\n",
      "File 5e processed\n",
      "svmem(total=12655771648, available=6797905920, percent=46.3, used=5857865728, free=6797905920)\n",
      "Starting now with file raw_waves_data_6a.csv\n",
      "svmem(total=12655771648, available=6797905920, percent=46.3, used=5857865728, free=6797905920)\n",
      "Data loaded in\n",
      "Signals combined and filled in\n",
      "Output file written\n",
      "File 6a processed\n",
      "svmem(total=12655771648, available=6794182656, percent=46.3, used=5861588992, free=6794182656)\n",
      "Starting now with file raw_waves_data_6b.csv\n",
      "svmem(total=12655771648, available=6794289152, percent=46.3, used=5861482496, free=6794289152)\n",
      "Data loaded in\n",
      "Signals combined and filled in\n",
      "Output file written\n",
      "File 6b processed\n",
      "svmem(total=12655771648, available=6709018624, percent=47.0, used=5946753024, free=6709018624)\n",
      "Starting now with file raw_waves_data_6c.csv\n",
      "svmem(total=12655771648, available=6709018624, percent=47.0, used=5946753024, free=6709018624)\n",
      "Data loaded in\n",
      "Signals combined and filled in\n",
      "Output file written\n",
      "File 6c processed\n",
      "svmem(total=12655771648, available=6854492160, percent=45.8, used=5801279488, free=6854492160)\n",
      "Starting now with file raw_waves_data_6d.csv\n",
      "svmem(total=12655771648, available=6854422528, percent=45.8, used=5801349120, free=6854422528)\n",
      "Data loaded in\n",
      "Signals combined and filled in\n",
      "Output file written\n",
      "File 6d processed\n",
      "svmem(total=12655771648, available=7050534912, percent=44.3, used=5605236736, free=7050534912)\n",
      "Starting now with file raw_waves_data_6e.csv\n",
      "svmem(total=12655771648, available=7050539008, percent=44.3, used=5605232640, free=7050539008)\n",
      "Data loaded in\n",
      "Signals combined and filled in\n",
      "Output file written\n",
      "File 6e processed\n",
      "svmem(total=12655771648, available=6704001024, percent=47.0, used=5951770624, free=6704001024)\n",
      "Starting now with file raw_waves_data_7a.csv\n",
      "svmem(total=12655771648, available=6704181248, percent=47.0, used=5951590400, free=6704181248)\n",
      "Data loaded in\n",
      "Signals combined and filled in\n",
      "Output file written\n",
      "File 7a processed\n",
      "svmem(total=12655771648, available=6869585920, percent=45.7, used=5786185728, free=6869585920)\n",
      "Starting now with file raw_waves_data_7b.csv\n",
      "svmem(total=12655771648, available=6869516288, percent=45.7, used=5786255360, free=6869516288)\n",
      "Data loaded in\n",
      "Signals combined and filled in\n",
      "Output file written\n",
      "File 7b processed\n",
      "svmem(total=12655771648, available=6952361984, percent=45.1, used=5703409664, free=6952361984)\n",
      "Starting now with file raw_waves_data_7c.csv\n",
      "svmem(total=12655771648, available=6952386560, percent=45.1, used=5703385088, free=6952386560)\n",
      "Data loaded in\n",
      "Signals combined and filled in\n",
      "Output file written\n",
      "File 7c processed\n",
      "svmem(total=12655771648, available=6939717632, percent=45.2, used=5716054016, free=6939717632)\n"
     ]
    }
   ],
   "source": [
    "# We will have an array telling us which of the files did not have their last\n",
    "# chunk processed\n",
    "for file in files:\n",
    "    print(\"Starting now with file \" + file)\n",
    "    print(virtual_memory())\n",
    "\n",
    "    # Get the columns\n",
    "    cols = coldict[file]\n",
    "\n",
    "    # Read in the data\n",
    "    df = pd.read_csv(folder + file, usecols=coldict[file])\n",
    "    print (\"Data loaded in\")\n",
    "\n",
    "    # My little test of the files tells me the sampling frequency is 250 Hz\n",
    "    freq = 250 \n",
    "\n",
    "    # Create a complete signal in which to detect R-peaks\n",
    "    signal = pd.Series(df[cols[1]]) # Column 0 is the time\n",
    "    i=2\n",
    "    while True:\n",
    "        try:\n",
    "            signal = signal.combine_first(df[cols[i]])\n",
    "            i+=1\n",
    "        except IndexError:\n",
    "            break\n",
    "    signal = signal.fillna(0)\n",
    "    signal = pd.to_numeric(signal)\n",
    "    print(\"Signals combined and filled in\")\n",
    "\n",
    "    # Delineate a chunk of length, say, 20000 that goes to the end of the signal, and find R-peaks inside\n",
    "    try:\n",
    "        hi = len(signal)\n",
    "        lo = hi - 20000\n",
    "        xqrs = processing.XQRS(sig=signal[lo:hi], fs=freq)\n",
    "        xqrs.detect(verbose=False)\n",
    "        rpeaks = list(lo + xqrs.qrs_inds)\n",
    "    except IndexError:\n",
    "        pass\n",
    "    \n",
    "    # Grab the time stamps\n",
    "    df.loc[rpeaks, \"time\"].to_csv(\"final_chunks/missing_rpeaks_\" + namedict[file] + \".csv\")\n",
    "    print(\"Output file written\")\n",
    "\n",
    "    # Delete all of the variables to save space\n",
    "    del df\n",
    "    del xqrs\n",
    "    del signal\n",
    "    del rpeaks\n",
    "    collect_garbage()\n",
    "\n",
    "    print(\"File \" + namedict[file] + \" processed\")\n",
    "    print(virtual_memory())\n"
   ]
  },
  {
   "cell_type": "code",
   "execution_count": null,
   "metadata": {},
   "outputs": [],
   "source": []
  }
 ],
 "metadata": {
  "kernelspec": {
   "display_name": "Python 3.9.2 64-bit",
   "language": "python",
   "name": "python3"
  },
  "language_info": {
   "codemirror_mode": {
    "name": "ipython",
    "version": 3
   },
   "file_extension": ".py",
   "mimetype": "text/x-python",
   "name": "python",
   "nbconvert_exporter": "python",
   "pygments_lexer": "ipython3",
   "version": "3.9.2"
  },
  "orig_nbformat": 4,
  "vscode": {
   "interpreter": {
    "hash": "3b66384013171cdfccbfda8d4f96d2b3b6a10bf536bc42f61d1fe50046d47db0"
   }
  }
 },
 "nbformat": 4,
 "nbformat_minor": 2
}
