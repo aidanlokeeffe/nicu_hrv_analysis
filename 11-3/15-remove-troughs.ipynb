{
 "cells": [
  {
   "cell_type": "code",
   "execution_count": 1,
   "metadata": {},
   "outputs": [],
   "source": [
    "import numpy as np\n",
    "import pandas as pd\n",
    "#import matplotlib.pyplot as plt\n",
    "import wfdb\n",
    "\n",
    "from gc import collect as collect_garbage\n",
    "from psutil import virtual_memory\n",
    "from os import scandir"
   ]
  },
  {
   "cell_type": "code",
   "execution_count": 2,
   "metadata": {},
   "outputs": [],
   "source": [
    "%matplotlib widget"
   ]
  },
  {
   "cell_type": "code",
   "execution_count": 3,
   "metadata": {},
   "outputs": [
    {
     "data": {
      "text/plain": [
       "svmem(total=12655771648, available=8198057984, percent=35.2, used=4457713664, free=8198057984)"
      ]
     },
     "execution_count": 3,
     "metadata": {},
     "output_type": "execute_result"
    }
   ],
   "source": [
    "collect_garbage()\n",
    "virtual_memory()"
   ]
  },
  {
   "cell_type": "code",
   "execution_count": 4,
   "metadata": {},
   "outputs": [],
   "source": [
    "ecg_folder = \"../../Deidentified-Raw-Waveforms/\"\n",
    "peak_folder = \"completed_rpeaks/\""
   ]
  },
  {
   "cell_type": "code",
   "execution_count": 5,
   "metadata": {},
   "outputs": [],
   "source": [
    "ecg_files = sorted([file.name for file in scandir(ecg_folder) if \".csv\" in file.name])\n",
    "peak_files = sorted([file.name for file in scandir(peak_folder)])\n",
    "\n",
    "# It will be easier to use the completed, but not concatenated rpeaks for\n",
    "# this task. Also, we need the \".csv\" condition for ecg files because \n",
    "# there is a folder full of rpeaks in there"
   ]
  },
  {
   "cell_type": "code",
   "execution_count": 6,
   "metadata": {},
   "outputs": [],
   "source": [
    "coldict = {\n",
    "    \"raw_waves_data_1a.csv\": [\"time\", \"257\"], \"raw_waves_data_1b.csv\": [\"time\", \"257\", \"258\"], \"raw_waves_data_1c.csv\": [\"time\", \"257\", \"258\"], \"raw_waves_data_1d.csv\": [\"time\", \"257\", \"258\", \"317\"], \n",
    "    \"raw_waves_data_1e.csv\": [\"time\", \"258\"],\n",
    "\n",
    "    \"raw_waves_data_2a.csv\": [\"time\", \"257\", \"258\"], \"raw_waves_data_2b.csv\": [\"time\", \"258\"], \"raw_waves_data_2c.csv\": [\"time\", \"257\"], \"raw_waves_data_2d.csv\": [\"time\", \"257\", \"258\"], \n",
    "    \"raw_waves_data_2e.csv\": [\"time\", \"257\", \"258\"],\n",
    "\n",
    "    \"raw_waves_data_3a.csv\": [\"time\", \"258\"], \"raw_waves_data_3b.csv\": [\"time\", \"258\"], \"raw_waves_data_3c.csv\": [\"time\", \"258\"], \"raw_waves_data_3d.csv\": [\"time\", \"258\"], \n",
    "    \"raw_waves_data_3e.csv\": [\"time\", \"257\", \"258\", \"317\"],\n",
    "\n",
    "    \"raw_waves_data_4a.csv\": [\"time\", \"257\", \"258\"], \"raw_waves_data_4b.csv\": [\"time\", \"257\", \"258\"], \"raw_waves_data_4c.csv\": [\"time\", \"257\"], \"raw_waves_data_4d.csv\": [\"time\", \"257\", \"258\"], \n",
    "    \"raw_waves_data_4e.csv\": [\"time\", \"257\", \"258\"],\n",
    "\n",
    "    \"raw_waves_data_5a.csv\": [\"time\", \"258\"], \"raw_waves_data_5b.csv\": [\"time\", \"258\"], \"raw_waves_data_5c.csv\": [\"time\", \"258\"], \"raw_waves_data_5d.csv\": [\"time\", \"258\", \"317\"],\n",
    "    \"raw_waves_data_5e.csv\": [\"time\", \"258\"],\n",
    "\n",
    "    \"raw_waves_data_6a.csv\": [\"time\", \"257\", \"258\"], \"raw_waves_data_6b.csv\": [\"time\", \"258\"], \"raw_waves_data_6c.csv\": [\"time\", \"258\"], \"raw_waves_data_6d.csv\": [\"time\", \"258\"], \"raw_waves_data_6e.csv\": [\"time\", \"258\"],\n",
    "    \n",
    "    \"raw_waves_data_7a.csv\": [\"time\", \"257\", \"258\"], \"raw_waves_data_7b.csv\": [\"time\", \"258\"], \"raw_waves_data_7c.csv\": [\"time\", \"258\"], \"raw_waves_data_7d.csv\": [\"time\", \"257\", \"258\", \"317\"], \n",
    "    \"raw_waves_data_7e.csv\": [\"time\", \"258\"]\n",
    "}\n",
    "\n",
    "namedict = {\n",
    "    \"raw_waves_data_1a.csv\": \"1a\", \"raw_waves_data_1b.csv\": \"1b\", \"raw_waves_data_1c.csv\": \"1c\", \"raw_waves_data_1d.csv\": \"1d\", \"raw_waves_data_1e.csv\": \"1e\",\n",
    "    \"raw_waves_data_2a.csv\": \"2a\", \"raw_waves_data_2b.csv\": \"2b\", \"raw_waves_data_2c.csv\": \"2c\", \"raw_waves_data_2d.csv\": \"2d\", \"raw_waves_data_2e.csv\": \"2e\",\n",
    "    \"raw_waves_data_3a.csv\": \"3a\", \"raw_waves_data_3b.csv\": \"3b\", \"raw_waves_data_3c.csv\": \"3c\", \"raw_waves_data_3d.csv\": \"3d\", \"raw_waves_data_3e.csv\": \"3e\",\n",
    "    \"raw_waves_data_4a.csv\": \"4a\", \"raw_waves_data_4b.csv\": \"4b\", \"raw_waves_data_4c.csv\": \"4c\", \"raw_waves_data_4d.csv\": \"4d\", \"raw_waves_data_4e.csv\": \"4e\",\n",
    "    \"raw_waves_data_5a.csv\": \"5a\", \"raw_waves_data_5b.csv\": \"5b\", \"raw_waves_data_5c.csv\": \"5c\", \"raw_waves_data_5d.csv\": \"5d\", \"raw_waves_data_5e.csv\": \"5e\",\n",
    "    \"raw_waves_data_6a.csv\": \"6a\", \"raw_waves_data_6b.csv\": \"6b\", \"raw_waves_data_6c.csv\": \"6c\", \"raw_waves_data_6d.csv\": \"6d\", \"raw_waves_data_6e.csv\": \"6e\",\n",
    "    \"raw_waves_data_7a.csv\": \"7a\", \"raw_waves_data_7b.csv\": \"7b\", \"raw_waves_data_7c.csv\": \"7c\", \"raw_waves_data_7d.csv\": \"7d\", \"raw_waves_data_7e.csv\": \"7e\"    \n",
    "}"
   ]
  },
  {
   "cell_type": "code",
   "execution_count": 7,
   "metadata": {},
   "outputs": [
    {
     "name": "stdout",
     "output_type": "stream",
     "text": [
      "Data loaded in\n",
      "Signals combined and filled in\n"
     ]
    },
    {
     "data": {
      "text/plain": [
       "svmem(total=12655771648, available=7645741056, percent=39.6, used=5010030592, free=7645741056)"
      ]
     },
     "execution_count": 7,
     "metadata": {},
     "output_type": "execute_result"
    }
   ],
   "source": [
    "# We're gonna build this method for the first file, as per usual\n",
    "\n",
    "# Load in the ECG data, construct the signal, and delete the data frame\n",
    "cols = coldict[ecg_files[0]]\n",
    "df = pd.read_csv(ecg_folder + ecg_files[0], usecols=cols)\n",
    "print (\"Data loaded in\")\n",
    "\n",
    "# Create a complete signal in which to detect R-peaks\n",
    "signal = pd.Series(df[cols[1]]) # Column 0 is the time\n",
    "i=2\n",
    "while True:\n",
    "    try:\n",
    "        signal = signal.combine_first(df[cols[i]])\n",
    "        i+=1\n",
    "    except IndexError:\n",
    "        break\n",
    "signal = signal.fillna(0)\n",
    "signal = pd.to_numeric(signal)\n",
    "print(\"Signals combined and filled in\")\n",
    "\n",
    "# Delete the dataframe\n",
    "del df\n",
    "collect_garbage()\n",
    "virtual_memory()\n"
   ]
  },
  {
   "cell_type": "code",
   "execution_count": 57,
   "metadata": {},
   "outputs": [],
   "source": [
    "# Bring in the R-peaks too\n",
    "rpeaks = pd.read_csv(peak_folder + peak_files[0])"
   ]
  },
  {
   "cell_type": "code",
   "execution_count": 58,
   "metadata": {},
   "outputs": [
    {
     "data": {
      "text/html": [
       "<div>\n",
       "<style scoped>\n",
       "    .dataframe tbody tr th:only-of-type {\n",
       "        vertical-align: middle;\n",
       "    }\n",
       "\n",
       "    .dataframe tbody tr th {\n",
       "        vertical-align: top;\n",
       "    }\n",
       "\n",
       "    .dataframe thead th {\n",
       "        text-align: right;\n",
       "    }\n",
       "</style>\n",
       "<table border=\"1\" class=\"dataframe\">\n",
       "  <thead>\n",
       "    <tr style=\"text-align: right;\">\n",
       "      <th></th>\n",
       "      <th>Unnamed: 0</th>\n",
       "      <th>time</th>\n",
       "    </tr>\n",
       "  </thead>\n",
       "  <tbody>\n",
       "    <tr>\n",
       "      <th>0</th>\n",
       "      <td>56</td>\n",
       "      <td>345600.265306</td>\n",
       "    </tr>\n",
       "    <tr>\n",
       "      <th>1</th>\n",
       "      <td>151</td>\n",
       "      <td>345600.642058</td>\n",
       "    </tr>\n",
       "    <tr>\n",
       "      <th>2</th>\n",
       "      <td>246</td>\n",
       "      <td>345601.010424</td>\n",
       "    </tr>\n",
       "    <tr>\n",
       "      <th>3</th>\n",
       "      <td>341</td>\n",
       "      <td>345601.393469</td>\n",
       "    </tr>\n",
       "    <tr>\n",
       "      <th>4</th>\n",
       "      <td>435</td>\n",
       "      <td>345601.779318</td>\n",
       "    </tr>\n",
       "    <tr>\n",
       "      <th>...</th>\n",
       "      <td>...</td>\n",
       "      <td>...</td>\n",
       "    </tr>\n",
       "    <tr>\n",
       "      <th>674738</th>\n",
       "      <td>65845859</td>\n",
       "      <td>604798.408304</td>\n",
       "    </tr>\n",
       "    <tr>\n",
       "      <th>674739</th>\n",
       "      <td>65845954</td>\n",
       "      <td>604798.793622</td>\n",
       "    </tr>\n",
       "    <tr>\n",
       "      <th>674740</th>\n",
       "      <td>65846049</td>\n",
       "      <td>604799.164347</td>\n",
       "    </tr>\n",
       "    <tr>\n",
       "      <th>674741</th>\n",
       "      <td>65846145</td>\n",
       "      <td>604799.542720</td>\n",
       "    </tr>\n",
       "    <tr>\n",
       "      <th>674742</th>\n",
       "      <td>65846240</td>\n",
       "      <td>604799.932454</td>\n",
       "    </tr>\n",
       "  </tbody>\n",
       "</table>\n",
       "<p>674743 rows × 2 columns</p>\n",
       "</div>"
      ],
      "text/plain": [
       "        Unnamed: 0           time\n",
       "0               56  345600.265306\n",
       "1              151  345600.642058\n",
       "2              246  345601.010424\n",
       "3              341  345601.393469\n",
       "4              435  345601.779318\n",
       "...            ...            ...\n",
       "674738    65845859  604798.408304\n",
       "674739    65845954  604798.793622\n",
       "674740    65846049  604799.164347\n",
       "674741    65846145  604799.542720\n",
       "674742    65846240  604799.932454\n",
       "\n",
       "[674743 rows x 2 columns]"
      ]
     },
     "execution_count": 58,
     "metadata": {},
     "output_type": "execute_result"
    }
   ],
   "source": [
    "rpeaks"
   ]
  },
  {
   "cell_type": "code",
   "execution_count": 9,
   "metadata": {},
   "outputs": [
    {
     "data": {
      "text/plain": [
       "svmem(total=12655771648, available=7637749760, percent=39.7, used=5018021888, free=7637749760)"
      ]
     },
     "execution_count": 9,
     "metadata": {},
     "output_type": "execute_result"
    }
   ],
   "source": [
    "collect_garbage()\n",
    "virtual_memory()"
   ]
  },
  {
   "cell_type": "code",
   "execution_count": 10,
   "metadata": {},
   "outputs": [],
   "source": [
    "filt = (~rpeaks.isna())\n",
    "for i in range(len(filt)):\n",
    "    if signal[ rpeaks.loc[i, \"Unnamed: 0\"]] < -18 or signal[ rpeaks.loc[i, \"Unnamed: 0\"]] > 50:\n",
    "        filt.loc[i] = False\n",
    "filt = pd.Series(filt[\"Unnamed: 0\"])"
   ]
  },
  {
   "cell_type": "code",
   "execution_count": 11,
   "metadata": {},
   "outputs": [],
   "source": [
    "filtered_rpeaks = rpeaks.loc[filt]"
   ]
  },
  {
   "cell_type": "code",
   "execution_count": 12,
   "metadata": {},
   "outputs": [],
   "source": [
    "# Okay, filter 1 works! Now, I want to try filter 2\n",
    "filt2 = pd.Series( [False for i in range(len(rpeaks))] )\n",
    "\n",
    "# We want filt2 to mark as False any rpeak that comes after an rpeak that was removed\n",
    "# May change this to true depending on if it makes the code more readable\n",
    "# Note that this code doesn't modify the first rpeak; this is okay since that can't possible come after a spike (except for file concatenation, but 5 bad peaks is no big deal)\n",
    "for i in range(1, len(rpeaks)):\n",
    "    if filt[i-1] == False and filt[i] == True:\n",
    "        filt2[i] = True\n",
    "\n"
   ]
  },
  {
   "cell_type": "code",
   "execution_count": 13,
   "metadata": {},
   "outputs": [],
   "source": [
    "toss_peaks = rpeaks.loc[filt2]"
   ]
  },
  {
   "cell_type": "code",
   "execution_count": 14,
   "metadata": {},
   "outputs": [
    {
     "data": {
      "text/plain": [
       "svmem(total=12655771648, available=7522287616, percent=40.6, used=5133484032, free=7522287616)"
      ]
     },
     "execution_count": 14,
     "metadata": {},
     "output_type": "execute_result"
    }
   ],
   "source": [
    "virtual_memory()"
   ]
  },
  {
   "cell_type": "code",
   "execution_count": 20,
   "metadata": {},
   "outputs": [
    {
     "data": {
      "application/vnd.jupyter.widget-view+json": {
       "model_id": "b9170f0f86b4415fa6d53e54b0c39be7",
       "version_major": 2,
       "version_minor": 0
      },
      "image/png": "[encoded data removed]",
      "text/html": [
       "\n",
       "            <div style=\"display: inline-block;\">\n",
       "                <div class=\"jupyter-widgets widget-label\" style=\"text-align: center;\">\n",
       "                    Figure\n",
       "                </div>\n",
       "                <img src='data:image/png;base64,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' width=640.0/>\n",
       "            </div>\n",
       "        "
      ],
      "text/plain": [
       "Canvas(toolbar=Toolbar(toolitems=[('Home', 'Reset original view', 'home', 'home'), ('Back', 'Back to previous …"
      ]
     },
     "metadata": {},
     "output_type": "display_data"
    }
   ],
   "source": [
    "wfdb.plot_items(signal = np.array(signal).reshape((len(signal), 1)), ann_samp=[toss_peaks])"
   ]
  },
  {
   "cell_type": "code",
   "execution_count": 21,
   "metadata": {},
   "outputs": [
    {
     "data": {
      "text/html": [
       "<div>\n",
       "<style scoped>\n",
       "    .dataframe tbody tr th:only-of-type {\n",
       "        vertical-align: middle;\n",
       "    }\n",
       "\n",
       "    .dataframe tbody tr th {\n",
       "        vertical-align: top;\n",
       "    }\n",
       "\n",
       "    .dataframe thead th {\n",
       "        text-align: right;\n",
       "    }\n",
       "</style>\n",
       "<table border=\"1\" class=\"dataframe\">\n",
       "  <thead>\n",
       "    <tr style=\"text-align: right;\">\n",
       "      <th></th>\n",
       "      <th>Unnamed: 0</th>\n",
       "    </tr>\n",
       "  </thead>\n",
       "  <tbody>\n",
       "    <tr>\n",
       "      <th>0</th>\n",
       "      <td>56</td>\n",
       "    </tr>\n",
       "    <tr>\n",
       "      <th>1</th>\n",
       "      <td>151</td>\n",
       "    </tr>\n",
       "    <tr>\n",
       "      <th>2</th>\n",
       "      <td>246</td>\n",
       "    </tr>\n",
       "    <tr>\n",
       "      <th>3</th>\n",
       "      <td>341</td>\n",
       "    </tr>\n",
       "    <tr>\n",
       "      <th>4</th>\n",
       "      <td>435</td>\n",
       "    </tr>\n",
       "    <tr>\n",
       "      <th>...</th>\n",
       "      <td>...</td>\n",
       "    </tr>\n",
       "    <tr>\n",
       "      <th>674738</th>\n",
       "      <td>65845859</td>\n",
       "    </tr>\n",
       "    <tr>\n",
       "      <th>674739</th>\n",
       "      <td>65845954</td>\n",
       "    </tr>\n",
       "    <tr>\n",
       "      <th>674740</th>\n",
       "      <td>65846049</td>\n",
       "    </tr>\n",
       "    <tr>\n",
       "      <th>674741</th>\n",
       "      <td>65846145</td>\n",
       "    </tr>\n",
       "    <tr>\n",
       "      <th>674742</th>\n",
       "      <td>65846240</td>\n",
       "    </tr>\n",
       "  </tbody>\n",
       "</table>\n",
       "<p>674743 rows × 1 columns</p>\n",
       "</div>"
      ],
      "text/plain": [
       "        Unnamed: 0\n",
       "0               56\n",
       "1              151\n",
       "2              246\n",
       "3              341\n",
       "4              435\n",
       "...            ...\n",
       "674738    65845859\n",
       "674739    65845954\n",
       "674740    65846049\n",
       "674741    65846145\n",
       "674742    65846240\n",
       "\n",
       "[674743 rows x 1 columns]"
      ]
     },
     "execution_count": 21,
     "metadata": {},
     "output_type": "execute_result"
    }
   ],
   "source": [
    "rpeaks"
   ]
  },
  {
   "cell_type": "code",
   "execution_count": 26,
   "metadata": {},
   "outputs": [],
   "source": [
    "test_filt = pd.DataFrame(filt2)"
   ]
  },
  {
   "cell_type": "code",
   "execution_count": 27,
   "metadata": {},
   "outputs": [
    {
     "data": {
      "text/html": [
       "<div>\n",
       "<style scoped>\n",
       "    .dataframe tbody tr th:only-of-type {\n",
       "        vertical-align: middle;\n",
       "    }\n",
       "\n",
       "    .dataframe tbody tr th {\n",
       "        vertical-align: top;\n",
       "    }\n",
       "\n",
       "    .dataframe thead th {\n",
       "        text-align: right;\n",
       "    }\n",
       "</style>\n",
       "<table border=\"1\" class=\"dataframe\">\n",
       "  <thead>\n",
       "    <tr style=\"text-align: right;\">\n",
       "      <th></th>\n",
       "      <th>0</th>\n",
       "    </tr>\n",
       "  </thead>\n",
       "  <tbody>\n",
       "    <tr>\n",
       "      <th>0</th>\n",
       "      <td>False</td>\n",
       "    </tr>\n",
       "    <tr>\n",
       "      <th>1</th>\n",
       "      <td>False</td>\n",
       "    </tr>\n",
       "    <tr>\n",
       "      <th>2</th>\n",
       "      <td>False</td>\n",
       "    </tr>\n",
       "    <tr>\n",
       "      <th>3</th>\n",
       "      <td>False</td>\n",
       "    </tr>\n",
       "    <tr>\n",
       "      <th>4</th>\n",
       "      <td>False</td>\n",
       "    </tr>\n",
       "    <tr>\n",
       "      <th>...</th>\n",
       "      <td>...</td>\n",
       "    </tr>\n",
       "    <tr>\n",
       "      <th>674738</th>\n",
       "      <td>False</td>\n",
       "    </tr>\n",
       "    <tr>\n",
       "      <th>674739</th>\n",
       "      <td>False</td>\n",
       "    </tr>\n",
       "    <tr>\n",
       "      <th>674740</th>\n",
       "      <td>False</td>\n",
       "    </tr>\n",
       "    <tr>\n",
       "      <th>674741</th>\n",
       "      <td>False</td>\n",
       "    </tr>\n",
       "    <tr>\n",
       "      <th>674742</th>\n",
       "      <td>False</td>\n",
       "    </tr>\n",
       "  </tbody>\n",
       "</table>\n",
       "<p>674743 rows × 1 columns</p>\n",
       "</div>"
      ],
      "text/plain": [
       "            0\n",
       "0       False\n",
       "1       False\n",
       "2       False\n",
       "3       False\n",
       "4       False\n",
       "...       ...\n",
       "674738  False\n",
       "674739  False\n",
       "674740  False\n",
       "674741  False\n",
       "674742  False\n",
       "\n",
       "[674743 rows x 1 columns]"
      ]
     },
     "execution_count": 27,
     "metadata": {},
     "output_type": "execute_result"
    }
   ],
   "source": [
    "test_filt"
   ]
  },
  {
   "cell_type": "code",
   "execution_count": 47,
   "metadata": {},
   "outputs": [],
   "source": [
    "# Okay, I need a smaller example to build on\n",
    "testpeaks = pd.DataFrame([10, 20, 30, 40, 50, 60, 70, 80, 90, 100])\n",
    "testpeaks[\"1\"] = [1,2,3,4,5,6,7,8,9,10]"
   ]
  },
  {
   "cell_type": "code",
   "execution_count": 48,
   "metadata": {},
   "outputs": [
    {
     "data": {
      "text/html": [
       "<div>\n",
       "<style scoped>\n",
       "    .dataframe tbody tr th:only-of-type {\n",
       "        vertical-align: middle;\n",
       "    }\n",
       "\n",
       "    .dataframe tbody tr th {\n",
       "        vertical-align: top;\n",
       "    }\n",
       "\n",
       "    .dataframe thead th {\n",
       "        text-align: right;\n",
       "    }\n",
       "</style>\n",
       "<table border=\"1\" class=\"dataframe\">\n",
       "  <thead>\n",
       "    <tr style=\"text-align: right;\">\n",
       "      <th></th>\n",
       "      <th>0</th>\n",
       "      <th>1</th>\n",
       "    </tr>\n",
       "  </thead>\n",
       "  <tbody>\n",
       "    <tr>\n",
       "      <th>0</th>\n",
       "      <td>10</td>\n",
       "      <td>1</td>\n",
       "    </tr>\n",
       "    <tr>\n",
       "      <th>1</th>\n",
       "      <td>20</td>\n",
       "      <td>2</td>\n",
       "    </tr>\n",
       "    <tr>\n",
       "      <th>2</th>\n",
       "      <td>30</td>\n",
       "      <td>3</td>\n",
       "    </tr>\n",
       "    <tr>\n",
       "      <th>3</th>\n",
       "      <td>40</td>\n",
       "      <td>4</td>\n",
       "    </tr>\n",
       "    <tr>\n",
       "      <th>4</th>\n",
       "      <td>50</td>\n",
       "      <td>5</td>\n",
       "    </tr>\n",
       "    <tr>\n",
       "      <th>5</th>\n",
       "      <td>60</td>\n",
       "      <td>6</td>\n",
       "    </tr>\n",
       "    <tr>\n",
       "      <th>6</th>\n",
       "      <td>70</td>\n",
       "      <td>7</td>\n",
       "    </tr>\n",
       "    <tr>\n",
       "      <th>7</th>\n",
       "      <td>80</td>\n",
       "      <td>8</td>\n",
       "    </tr>\n",
       "    <tr>\n",
       "      <th>8</th>\n",
       "      <td>90</td>\n",
       "      <td>9</td>\n",
       "    </tr>\n",
       "    <tr>\n",
       "      <th>9</th>\n",
       "      <td>100</td>\n",
       "      <td>10</td>\n",
       "    </tr>\n",
       "  </tbody>\n",
       "</table>\n",
       "</div>"
      ],
      "text/plain": [
       "     0   1\n",
       "0   10   1\n",
       "1   20   2\n",
       "2   30   3\n",
       "3   40   4\n",
       "4   50   5\n",
       "5   60   6\n",
       "6   70   7\n",
       "7   80   8\n",
       "8   90   9\n",
       "9  100  10"
      ]
     },
     "execution_count": 48,
     "metadata": {},
     "output_type": "execute_result"
    }
   ],
   "source": [
    "testpeaks"
   ]
  },
  {
   "cell_type": "code",
   "execution_count": 53,
   "metadata": {},
   "outputs": [],
   "source": [
    "filt1 = pd.Series( [True,  True,  True,  False, True, False, True, True,  True,  True] )\n",
    "filt2 = pd.Series( [False, False, False, False, True, False, True, False, False, False])\n",
    "filt2 = ~filt2"
   ]
  },
  {
   "cell_type": "code",
   "execution_count": 54,
   "metadata": {},
   "outputs": [
    {
     "data": {
      "text/html": [
       "<div>\n",
       "<style scoped>\n",
       "    .dataframe tbody tr th:only-of-type {\n",
       "        vertical-align: middle;\n",
       "    }\n",
       "\n",
       "    .dataframe tbody tr th {\n",
       "        vertical-align: top;\n",
       "    }\n",
       "\n",
       "    .dataframe thead th {\n",
       "        text-align: right;\n",
       "    }\n",
       "</style>\n",
       "<table border=\"1\" class=\"dataframe\">\n",
       "  <thead>\n",
       "    <tr style=\"text-align: right;\">\n",
       "      <th></th>\n",
       "      <th>0</th>\n",
       "      <th>1</th>\n",
       "    </tr>\n",
       "  </thead>\n",
       "  <tbody>\n",
       "    <tr>\n",
       "      <th>0</th>\n",
       "      <td>NaN</td>\n",
       "      <td>NaN</td>\n",
       "    </tr>\n",
       "    <tr>\n",
       "      <th>1</th>\n",
       "      <td>10.0</td>\n",
       "      <td>1.0</td>\n",
       "    </tr>\n",
       "    <tr>\n",
       "      <th>2</th>\n",
       "      <td>10.0</td>\n",
       "      <td>1.0</td>\n",
       "    </tr>\n",
       "    <tr>\n",
       "      <th>7</th>\n",
       "      <td>10.0</td>\n",
       "      <td>1.0</td>\n",
       "    </tr>\n",
       "    <tr>\n",
       "      <th>8</th>\n",
       "      <td>10.0</td>\n",
       "      <td>1.0</td>\n",
       "    </tr>\n",
       "    <tr>\n",
       "      <th>9</th>\n",
       "      <td>10.0</td>\n",
       "      <td>1.0</td>\n",
       "    </tr>\n",
       "  </tbody>\n",
       "</table>\n",
       "</div>"
      ],
      "text/plain": [
       "      0    1\n",
       "0   NaN  NaN\n",
       "1  10.0  1.0\n",
       "2  10.0  1.0\n",
       "7  10.0  1.0\n",
       "8  10.0  1.0\n",
       "9  10.0  1.0"
      ]
     },
     "execution_count": 54,
     "metadata": {},
     "output_type": "execute_result"
    }
   ],
   "source": [
    "testpeaks.loc[filt1].diff().loc[filt2]"
   ]
  },
  {
   "cell_type": "code",
   "execution_count": null,
   "metadata": {},
   "outputs": [],
   "source": []
  }
 ],
 "metadata": {
  "kernelspec": {
   "display_name": "Python 3.9.2 64-bit",
   "language": "python",
   "name": "python3"
  },
  "language_info": {
   "codemirror_mode": {
    "name": "ipython",
    "version": 3
   },
   "file_extension": ".py",
   "mimetype": "text/x-python",
   "name": "python",
   "nbconvert_exporter": "python",
   "pygments_lexer": "ipython3",
   "version": "3.9.2"
  },
  "orig_nbformat": 4,
  "vscode": {
   "interpreter": {
    "hash": "3b66384013171cdfccbfda8d4f96d2b3b6a10bf536bc42f61d1fe50046d47db0"
   }
  }
 },
 "nbformat": 4,
 "nbformat_minor": 2
}
