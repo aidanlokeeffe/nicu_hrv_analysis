{
 "cells": [
  {
   "cell_type": "code",
   "execution_count": 2,
   "metadata": {},
   "outputs": [],
   "source": [
    "import numpy as np\n",
    "import pandas as pd\n",
    "import matplotlib.pyplot as plt\n",
    "import wfdb\n",
    "from wfdb import processing\n",
    "\n",
    "from gc import collect as collect_garbage\n",
    "from psutil import virtual_memory\n",
    "from os import scandir"
   ]
  },
  {
   "cell_type": "code",
   "execution_count": 3,
   "metadata": {},
   "outputs": [],
   "source": [
    "%matplotlib widget"
   ]
  },
  {
   "cell_type": "code",
   "execution_count": 4,
   "metadata": {},
   "outputs": [],
   "source": [
    "folder = \"../../Deidentified-Raw-Waveforms/\"\n",
    "file1 = \"raw_waves_data_2a.csv\"\n",
    "file2 = \"raw_waves_data_2b.csv\"\n",
    "file3 = \"raw_waves_data_2c.csv\"\n",
    "file4 = \"raw_waves_data_2d.csv\"\n",
    "file5 = \"raw_waves_data_2e.csv\"\n",
    "coldict = {\n",
    "    \"raw_waves_data_2a.csv\": [\"257\", \"258\"], \n",
    "    \"raw_waves_data_2b.csv\": [\"258\"], \n",
    "    \"raw_waves_data_2c.csv\": [\"257\"], \n",
    "    \"raw_waves_data_2d.csv\": [\"257\", \"258\"], \n",
    "    \"raw_waves_data_2e.csv\": [\"257\", \"258\"]\n",
    "}"
   ]
  },
  {
   "cell_type": "code",
   "execution_count": 39,
   "metadata": {},
   "outputs": [
    {
     "data": {
      "text/plain": [
       "svmem(total=12655771648, available=3668291584, percent=71.0, used=8987480064, free=3668291584)"
      ]
     },
     "execution_count": 39,
     "metadata": {},
     "output_type": "execute_result"
    }
   ],
   "source": [
    "# Okay, now, what we're gonna do is estimate the sampling frequency of each of the signals over time. \n",
    "# I'm aware that the sampling frequency may change with time, so to prevent that from confounding me, I'll resample hour by hour and plot the results. If we see big changes,\n",
    "# then we'll know we have to be very careful with this when we actually do the QRS detection\n",
    "collect_garbage()\n",
    "virtual_memory()"
   ]
  },
  {
   "cell_type": "code",
   "execution_count": 40,
   "metadata": {},
   "outputs": [],
   "source": [
    "df = pd.read_csv(folder + file1, usecols=coldict[file1])"
   ]
  },
  {
   "cell_type": "code",
   "execution_count": 41,
   "metadata": {},
   "outputs": [],
   "source": [
    "filt257 = (~df[\"257\"].isna())\n",
    "filt258 = (~df[\"258\"].isna())"
   ]
  },
  {
   "cell_type": "code",
   "execution_count": 43,
   "metadata": {},
   "outputs": [
    {
     "data": {
      "text/plain": [
       "False    38080523\n",
       "True     26711224\n",
       "Name: 257, dtype: int64"
      ]
     },
     "execution_count": 43,
     "metadata": {},
     "output_type": "execute_result"
    }
   ],
   "source": [
    "filt257.value_counts()"
   ]
  },
  {
   "cell_type": "code",
   "execution_count": null,
   "metadata": {},
   "outputs": [],
   "source": []
  }
 ],
 "metadata": {
  "kernelspec": {
   "display_name": "Python 3.9.2 64-bit",
   "language": "python",
   "name": "python3"
  },
  "language_info": {
   "codemirror_mode": {
    "name": "ipython",
    "version": 3
   },
   "file_extension": ".py",
   "mimetype": "text/x-python",
   "name": "python",
   "nbconvert_exporter": "python",
   "pygments_lexer": "ipython3",
   "version": "3.9.2"
  },
  "orig_nbformat": 4,
  "vscode": {
   "interpreter": {
    "hash": "3b66384013171cdfccbfda8d4f96d2b3b6a10bf536bc42f61d1fe50046d47db0"
   }
  }
 },
 "nbformat": 4,
 "nbformat_minor": 2
}
