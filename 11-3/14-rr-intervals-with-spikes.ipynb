{
 "cells": [
  {
   "cell_type": "code",
   "execution_count": 1,
   "metadata": {},
   "outputs": [],
   "source": [
    "import numpy as np\n",
    "import pandas as pd\n",
    "#import matplotlib.pyplot as plt\n",
    "\n",
    "from gc import collect as collect_garbage\n",
    "from psutil import virtual_memory\n",
    "from os import scandir"
   ]
  },
  {
   "cell_type": "code",
   "execution_count": 2,
   "metadata": {},
   "outputs": [
    {
     "data": {
      "text/plain": [
       "svmem(total=12655771648, available=3104497664, percent=75.5, used=9551273984, free=3104497664)"
      ]
     },
     "execution_count": 2,
     "metadata": {},
     "output_type": "execute_result"
    }
   ],
   "source": [
    "# Import \n",
    "collect_garbage()\n",
    "virtual_memory()\n"
   ]
  },
  {
   "cell_type": "code",
   "execution_count": 3,
   "metadata": {},
   "outputs": [],
   "source": [
    "files = [file.name for file in scandir(\"completed_rpeaks\")]"
   ]
  },
  {
   "cell_type": "code",
   "execution_count": 6,
   "metadata": {},
   "outputs": [
    {
     "name": "stdout",
     "output_type": "stream",
     "text": [
      "Now working on infant 3\n",
      "svmem(total=12655771648, available=3791650816, percent=70.0, used=8864120832, free=3791650816)\n",
      "Dataframes loaded in\n",
      "svmem(total=12655771648, available=3769401344, percent=70.2, used=8886370304, free=3769401344)\n",
      "Infant 3 R-peaks processed\n",
      "svmem(total=12655771648, available=3739316224, percent=70.5, used=8916455424, free=3739316224)\n",
      "\n"
     ]
    }
   ],
   "source": [
    "for i in range(3,4):\n",
    "    print(\"Now working on infant \" + str(i))\n",
    "    print(virtual_memory())\n",
    "\n",
    "    # Get the files we need and load them in as dataframes\n",
    "    i_files = [file for file in files if str(i) in file]\n",
    "    dfs = [ pd.read_csv(\"completed_rpeaks/\" + file) for file in i_files ]\n",
    "    print(\"Dataframes loaded in\")\n",
    "    print(virtual_memory())\n",
    "    \n",
    "    # We take this value so that we can get the start of the recording time, in case that's valuable for placing the recordings relative to each other\n",
    "    # My plan is to store it in the column header\n",
    "    # first_time = dfs[0].loc[0, \"time\"]\n",
    "    # WE ACTUALLY DON'T NEED TO DO THIS YET, AND IF WE DO, THE DATA IS THERE\n",
    "    \n",
    "    # Store the output in a big list\n",
    "    holder = []\n",
    "    for df in dfs:\n",
    "        holder += list(df[\"time\"])\n",
    "        del df\n",
    "        collect_garbage()\n",
    "    \n",
    "    # Convert the output to a dataframe, give the column the proper name, write it to output, and clean up\n",
    "    out = pd.DataFrame(holder)\n",
    "    out.columns = [\"rpeaks\"]\n",
    "    out.to_csv(\"concatenated_rpeaks2/rpeaks_\" + str(i) + \".csv\", index=False)\n",
    "\n",
    "    del holder\n",
    "    del out\n",
    "    collect_garbage()\n",
    "    print(\"Infant \" + str(i) + \" R-peaks processed\")\n",
    "    print(virtual_memory())\n",
    "    print()\n",
    "\n",
    "\n",
    "\n"
   ]
  },
  {
   "cell_type": "code",
   "execution_count": 7,
   "metadata": {},
   "outputs": [],
   "source": [
    "# Now, we'll just calculate the RR intervals\n"
   ]
  },
  {
   "cell_type": "code",
   "execution_count": 8,
   "metadata": {},
   "outputs": [],
   "source": [
    "folder = \"concatenated_rpeaks2/\"\n",
    "files = [file.name for file in scandir(folder)]"
   ]
  },
  {
   "cell_type": "code",
   "execution_count": 10,
   "metadata": {},
   "outputs": [
    {
     "data": {
      "text/plain": [
       "['rpeaks_2.csv', 'rpeaks_3.csv']"
      ]
     },
     "execution_count": 10,
     "metadata": {},
     "output_type": "execute_result"
    }
   ],
   "source": [
    "files"
   ]
  },
  {
   "cell_type": "code",
   "execution_count": 12,
   "metadata": {},
   "outputs": [
    {
     "name": "stdout",
     "output_type": "stream",
     "text": [
      "Now starting with infant 2\n",
      "svmem(total=12655771648, available=3759190016, percent=70.3, used=8896581632, free=3759190016)\n",
      "Finished with infant 2\n",
      "svmem(total=12655771648, available=3740819456, percent=70.4, used=8914952192, free=3740819456)\n",
      "\n",
      "Now starting with infant 3\n",
      "svmem(total=12655771648, available=3740819456, percent=70.4, used=8914952192, free=3740819456)\n",
      "Finished with infant 3\n",
      "svmem(total=12655771648, available=3712774144, percent=70.7, used=8942997504, free=3712774144)\n",
      "\n"
     ]
    }
   ],
   "source": [
    "for i in range(2,4):\n",
    "    print(\"Now starting with infant \" + str(i))\n",
    "    print(virtual_memory())\n",
    "    #df = pd.read_csv(folder + files[i-1])\n",
    "\n",
    "    # This line is from debugging the rr intervals for infants 2 and 3\n",
    "    df = pd.read_csv(folder + \"rpeaks_\" + str(i) + \".csv\")\n",
    "\n",
    "    out = pd.DataFrame(df[\"rpeaks\"])\n",
    "    N = len(df[\"rpeaks\"])\n",
    "    out[\"rr_ivl\"] = np.zeros((N,))\n",
    "    out[\"rr_ivl\"] = out[\"rpeaks\"].diff()\n",
    "\n",
    "    out.to_csv(\"rr_intervals2/rr_ivls_\" + str(i) + \".csv\", index=False)\n",
    "\n",
    "    del df\n",
    "    del out\n",
    "    del N\n",
    "    collect_garbage()\n",
    "\n",
    "    print(\"Finished with infant \" + str(i))\n",
    "    print(virtual_memory())\n",
    "    print()\n"
   ]
  },
  {
   "cell_type": "code",
   "execution_count": null,
   "metadata": {},
   "outputs": [],
   "source": []
  }
 ],
 "metadata": {
  "kernelspec": {
   "display_name": "Python 3.9.2 64-bit",
   "language": "python",
   "name": "python3"
  },
  "language_info": {
   "codemirror_mode": {
    "name": "ipython",
    "version": 3
   },
   "file_extension": ".py",
   "mimetype": "text/x-python",
   "name": "python",
   "nbconvert_exporter": "python",
   "pygments_lexer": "ipython3",
   "version": "3.9.2"
  },
  "orig_nbformat": 4,
  "vscode": {
   "interpreter": {
    "hash": "3b66384013171cdfccbfda8d4f96d2b3b6a10bf536bc42f61d1fe50046d47db0"
   }
  }
 },
 "nbformat": 4,
 "nbformat_minor": 2
}
