{
 "cells": [
  {
   "cell_type": "code",
   "execution_count": 2,
   "metadata": {},
   "outputs": [],
   "source": [
    "import numpy as np\n",
    "import pandas as pd\n",
    "import matplotlib.pyplot as plt\n",
    "\n",
    "from gc import collect as collect_garbage\n",
    "from psutil import virtual_memory\n",
    "from os import scandir"
   ]
  },
  {
   "cell_type": "code",
   "execution_count": 18,
   "metadata": {},
   "outputs": [],
   "source": [
    "folder = \"../01-rpeaks/\""
   ]
  },
  {
   "cell_type": "code",
   "execution_count": 48,
   "metadata": {},
   "outputs": [
    {
     "name": "stdout",
     "output_type": "stream",
     "text": [
      "Starting now with infant 1\n"
     ]
    }
   ],
   "source": [
    "# Clean up the RR intervals\n",
    "for i in range(1,8):\n",
    "    print(\"Starting now with infant \" + str(i))\n",
    "\n",
    "    # Get the names of the rpeak files\n",
    "    files = sorted( [file.name for file in scandir(folder) if str(i) in file.name] )\n",
    "    \n",
    "    # Concatenate all of these dataframes\n",
    "    df = pd.read_csv( folder + files[0] )\n",
    "    for file in files[1:]:\n",
    "        df = df.append( pd.read_csv(folder + file) )\n",
    "        collect_garbage()\n",
    "    \n",
    "    # Calculate the RR intervals\n",
    "    df[\"interval\"] = df[\"time\"].diff()\n",
    "\n",
    "    # Recalculate RR intervals while ignoring beats whose RR intervals are < 0.25 seconds\n",
    "    filt = df[\"interval\"] >= 0.25\n",
    "\n",
    "    buffer = pd.DataFrame.copy(df.loc[filt], deep=True)\n",
    "    buffer.reset_index(inplace=True, drop=True)\n",
    "    buffer[\"interval\"] = buffer[\"time\"].diff()\n",
    "\n",
    "    del df; collect_garbage()\n",
    "    df = pd.DataFrame.copy(buffer, deep=True)\n",
    "    del buffer; collect_garbage()\n",
    "\n",
    "    # Remove intervals of length greater than 5 seconds (arbitrary threshold)\n",
    "    # The resulting gaps will just be treated as missing data\n",
    "    filt = df[\"interval\"] <= 5\n",
    "    df = df.loc[filt]\n",
    "    df.reset_index(inplace=True, drop=True)\n",
    "\n",
    "    # Remove any remaining multiple intervals\n",
    "    \n",
    "\n",
    "    break"
   ]
  },
  {
   "cell_type": "code",
   "execution_count": 47,
   "metadata": {},
   "outputs": [
    {
     "data": {
      "text/plain": [
       "1         3.456006e+05\n",
       "2         3.456010e+05\n",
       "3         3.456014e+05\n",
       "4         3.456018e+05\n",
       "5         3.456022e+05\n",
       "              ...     \n",
       "710152    1.641598e+06\n",
       "710153    1.641599e+06\n",
       "710154    1.641599e+06\n",
       "710155    1.641599e+06\n",
       "710156    1.641600e+06\n",
       "Name: time, Length: 3439809, dtype: float64"
      ]
     },
     "execution_count": 47,
     "metadata": {},
     "output_type": "execute_result"
    }
   ],
   "source": [
    "buffer"
   ]
  },
  {
   "cell_type": "code",
   "execution_count": 38,
   "metadata": {},
   "outputs": [],
   "source": [
    "# This cell tests if concatenating the dataframes works as expected\n",
    "df.reset_index(drop=True,inplace=True)\n",
    "\n",
    "print(df)\n",
    "\n",
    "df1 = pd.read_csv(folder+files[0])\n",
    "df2 = pd.read_csv(folder+files[1])\n",
    "df3 = pd.read_csv(folder+files[2])\n",
    "df4 = pd.read_csv(folder+files[3])\n",
    "df5 = pd.read_csv(folder+files[4])\n",
    "\n",
    "len(df1[\"time\"]) + len(df2[\"time\"]) + len(df3[\"time\"]) + len(df4[\"time\"]) + len(df5[\"time\"])"
   ]
  },
  {
   "cell_type": "code",
   "execution_count": null,
   "metadata": {},
   "outputs": [],
   "source": [
    "# This cell tests if recalculating RR intervals while ignoring beats less than\n",
    "# 0.25 seconds was a success. If so, the result should be 0\n",
    "sum(df[\"interval\"] < 0.25)"
   ]
  }
 ],
 "metadata": {
  "kernelspec": {
   "display_name": "Python 3",
   "language": "python",
   "name": "python3"
  },
  "language_info": {
   "codemirror_mode": {
    "name": "ipython",
    "version": 3
   },
   "file_extension": ".py",
   "mimetype": "text/x-python",
   "name": "python",
   "nbconvert_exporter": "python",
   "pygments_lexer": "ipython3",
   "version": "3.9.2"
  },
  "orig_nbformat": 4,
  "vscode": {
   "interpreter": {
    "hash": "3b66384013171cdfccbfda8d4f96d2b3b6a10bf536bc42f61d1fe50046d47db0"
   }
  }
 },
 "nbformat": 4,
 "nbformat_minor": 2
}
