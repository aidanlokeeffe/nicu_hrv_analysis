{
 "cells": [
  {
   "cell_type": "code",
   "execution_count": 3,
   "metadata": {},
   "outputs": [],
   "source": [
    "import numpy as np\n",
    "import pandas as pd\n",
    "import matplotlib.pyplot as plt\n",
    "import wfdb\n",
    "from wfdb import processing\n",
    "\n",
    "from gc import collect as collect_garbage\n",
    "from psutil import virtual_memory\n",
    "from os import scandir"
   ]
  },
  {
   "cell_type": "code",
   "execution_count": 4,
   "metadata": {},
   "outputs": [],
   "source": [
    "%matplotlib widget"
   ]
  },
  {
   "cell_type": "code",
   "execution_count": 6,
   "metadata": {},
   "outputs": [],
   "source": [
    "#folder = \"../../Deidentified-Raw-Waveforms/\"\n",
    "folder = \"C:/Users/aidan/Box/Deidentified-Raw-Waveforms/\"\n",
    "coldict = {\n",
    "    \"raw_waves_data_1a.csv\": [\"time\", \"257\"], \"raw_waves_data_1b.csv\": [\"time\", \"257\", \"258\"], \"raw_waves_data_1c.csv\": [\"time\", \"257\", \"258\"], \"raw_waves_data_1d.csv\": [\"time\", \"257\", \"258\", \"317\"], \n",
    "    \"raw_waves_data_1e.csv\": [\"time\", \"258\"],\n",
    "\n",
    "    \"raw_waves_data_2a.csv\": [\"time\", \"257\", \"258\"], \"raw_waves_data_2b.csv\": [\"time\", \"258\"], \"raw_waves_data_2c.csv\": [\"time\", \"257\"], \"raw_waves_data_2d.csv\": [\"time\", \"257\", \"258\"], \n",
    "    \"raw_waves_data_2e.csv\": [\"time\", \"257\", \"258\"],\n",
    "\n",
    "    \"raw_waves_data_3a.csv\": [\"time\", \"258\"], \"raw_waves_data_3b.csv\": [\"time\", \"258\"], \"raw_waves_data_3c.csv\": [\"time\", \"258\"], \"raw_waves_data_3d.csv\": [\"time\", \"258\"], \n",
    "    \"raw_waves_data_3e.csv\": [\"time\", \"257\", \"258\", \"317\"],\n",
    "\n",
    "    \"raw_waves_data_4a.csv\": [\"time\", \"257\", \"258\"], \"raw_waves_data_4b.csv\": [\"time\", \"257\", \"258\"], \"raw_waves_data_4c.csv\": [\"time\", \"257\"], \"raw_waves_data_4d.csv\": [\"time\", \"257\", \"258\"], \n",
    "    \"raw_waves_data_4e.csv\": [\"time\", \"257\", \"258\"],\n",
    "\n",
    "    \"raw_waves_data_5a.csv\": [\"time\", \"258\"], \"raw_waves_data_5b.csv\": [\"time\", \"258\"], \"raw_waves_data_5c.csv\": [\"time\", \"258\"], \"raw_waves_data_5d.csv\": [\"time\", \"258\", \"317\"],\n",
    "    \"raw_waves_data_5e.csv\": [\"time\", \"258\"],\n",
    "\n",
    "    \"raw_waves_data_6a.csv\": [\"time\", \"257\", \"258\"], \"raw_waves_data_6b.csv\": [\"time\", \"258\"], \"raw_waves_data_6c.csv\": [\"time\", \"258\"], \"raw_waves_data_6d.csv\": [\"time\", \"258\"], \"raw_waves_data_6e.csv\": [\"time\", \"258\"],\n",
    "    \n",
    "    \"raw_waves_data_7a.csv\": [\"time\", \"257\", \"258\"], \"raw_waves_data_7b.csv\": [\"time\", \"258\"], \"raw_waves_data_7c.csv\": [\"time\", \"258\"], \"raw_waves_data_7d.csv\": [\"time\", \"257\", \"258\", \"317\"], \n",
    "    \"raw_waves_data_7e.csv\": [\"time\", \"258\"]\n",
    "}\n",
    "\n",
    "namedict = {\n",
    "    \"raw_waves_data_1a.csv\": \"1a\", \"raw_waves_data_1b.csv\": \"1b\", \"raw_waves_data_1c.csv\": \"1c\", \"raw_waves_data_1d.csv\": \"1d\", \"raw_waves_data_1e.csv\": \"1e\",\n",
    "    \"raw_waves_data_2a.csv\": \"2a\", \"raw_waves_data_2b.csv\": \"2b\", \"raw_waves_data_2c.csv\": \"2c\", \"raw_waves_data_2d.csv\": \"2d\", \"raw_waves_data_2e.csv\": \"2e\",\n",
    "    \"raw_waves_data_3a.csv\": \"3a\", \"raw_waves_data_3b.csv\": \"3b\", \"raw_waves_data_3c.csv\": \"3c\", \"raw_waves_data_3d.csv\": \"3d\", \"raw_waves_data_3e.csv\": \"3e\",\n",
    "    \"raw_waves_data_4a.csv\": \"4a\", \"raw_waves_data_4b.csv\": \"4b\", \"raw_waves_data_4c.csv\": \"4c\", \"raw_waves_data_4d.csv\": \"4d\", \"raw_waves_data_4e.csv\": \"4e\",\n",
    "    \"raw_waves_data_5a.csv\": \"5a\", \"raw_waves_data_5b.csv\": \"5b\", \"raw_waves_data_5c.csv\": \"5c\", \"raw_waves_data_5d.csv\": \"5d\", \"raw_waves_data_5e.csv\": \"5e\",\n",
    "    \"raw_waves_data_6a.csv\": \"6a\", \"raw_waves_data_6b.csv\": \"6b\", \"raw_waves_data_6c.csv\": \"6c\", \"raw_waves_data_6d.csv\": \"6d\", \"raw_waves_data_6e.csv\": \"6e\",\n",
    "    \"raw_waves_data_7a.csv\": \"7a\", \"raw_waves_data_7b.csv\": \"7b\", \"raw_waves_data_7c.csv\": \"7c\", \"raw_waves_data_7d.csv\": \"7d\", \"raw_waves_data_7e.csv\": \"7e\"    \n",
    "}"
   ]
  },
  {
   "cell_type": "code",
   "execution_count": 7,
   "metadata": {},
   "outputs": [
    {
     "data": {
      "text/plain": [
       "svmem(total=12655771648, available=5653020672, percent=55.3, used=7002750976, free=5653020672)"
      ]
     },
     "execution_count": 7,
     "metadata": {},
     "output_type": "execute_result"
    }
   ],
   "source": [
    "collect_garbage()\n",
    "virtual_memory()"
   ]
  },
  {
   "cell_type": "code",
   "execution_count": 10,
   "metadata": {},
   "outputs": [],
   "source": [
    "all_files = [folder + file.name for file in scandir(folder) if \".csv\" in file.name]\n",
    "\n",
    "# We need to replace some of the files with the shifted files produced in notebook 06\n",
    "all_files[5] =  folder+'06-shifted-2-and-3/raw_waves_data_2a.csv'\n",
    "all_files[6] =  folder+'06-shifted-2-and-3/raw_waves_data_2b.csv'\n",
    "all_files[10] =  folder+'06-shifted-2-and-3/raw_waves_data_3a.csv'\n",
    "all_files[11] =  folder+'06-shifted-2-and-3/raw_waves_data_3b.csv'"
   ]
  },
  {
   "cell_type": "code",
   "execution_count": null,
   "metadata": {},
   "outputs": [],
   "source": [
    "# This is the code that detects QRS complexes in the ECG\n",
    "for i in range(1,8):\n",
    "    files = [file for file in all_files if \"_\"+str(i) in file]\n",
    "\n",
    "    for file in files:\n",
    "        # Preliminaries\n",
    "        key = file.split(\"/\")[-1]\n",
    "        cols = coldict[key]\n",
    "        freq = 250\n",
    "        print(\"Starting now with \" + key)\n",
    "\n",
    "        # Read in the data\n",
    "        df = pd.read_csv(file, usecols=cols)\n",
    "        print(\"Data loaded in\")\n",
    "\n",
    "        # Complete the signal in the order of 257 (ECG1), then  258 (ECG2), and \n",
    "        # then 317 (EG3), then ffill for remaining missing values\n",
    "        signal = pd.Series(df[cols[1]])\n",
    "        i=2\n",
    "        while True:\n",
    "            try:\n",
    "                signal = signal.combine_first(df[cols[i]])\n",
    "                i+=1\n",
    "            except IndexError:\n",
    "                break\n",
    "        signal = signal.fillna(method=\"ffill\")\n",
    "        signal = pd.to_numeric(signal)\n",
    "        print(\"Signals combined and filled in\")\n",
    "\n",
    "        # Remove spikes and troughs by pinpointing values out of bounds and then \n",
    "        # erasing left and right of those pinpoints by delta indices\n",
    "        delta = 125\n",
    "        filt = (signal <= -10) | (signal >= 10)\n",
    "        filt.loc[~filt] = np.nan\n",
    "        filt.fillna(method=\"ffill\", limit=delta, inplace=True)\n",
    "        filt.fillna(method=\"bfill\", limit=delta, inplace=True)\n",
    "        filt.fillna(value=False, inplace=True)\n",
    "\n",
    "        signal.loc[filt] = np.nan\n",
    "        signal.fillna(method=\"ffill\", inplace=True)\n",
    "        print(\"Troughs and spikes removed\")\n",
    "\n",
    "        # Initialize the rpeak list\n",
    "        rpeaks = []\n",
    "\n",
    "        # Create a counter for breaking the signal into chunks\n",
    "        i=0\n",
    "        N = len(signal)\n",
    "        chunk = 10000\n",
    "        num_chunks = N//chunk + 1\n",
    "        print(\"Signal broken into \" + str(num_chunks) + \" chunks\")\n",
    "\n",
    "        # Find R peaks in all but the last chunk (that just tends to cause a problem)\n",
    "        while True:\n",
    "            try:\n",
    "                if i%1000 == 0:\n",
    "                    # I've found this choice of progress marker works for this chunk\n",
    "                    # size and signal length. If those values change, then this \n",
    "                    # condition will need to be modified too\n",
    "                    print( str(round(i/num_chunks,4)*100) + \"% percent done\" )\n",
    "\n",
    "                lo = i*chunk\n",
    "                hi = min( (i+1)*chunk, N)\n",
    "                xqrs = processing.XQRS(sig=signal[lo:hi], fs=freq)\n",
    "                xqrs.detect(verbose=False)\n",
    "\n",
    "                # xqrs recognized the chunk as starting from 0, so we have to shift \n",
    "                # the R peaks according to the left endpoint of the chunk\n",
    "                rpeaks += list( lo + xqrs.qrs_inds )\n",
    "\n",
    "                i+=1\n",
    "            except IndexError:\n",
    "                # This is the main way in which we'd expect to break this loop\n",
    "                break\n",
    "            except ValueError:\n",
    "                # More often than not, we get this case because the last chunk isn't \n",
    "                # long enough, hence the next block\n",
    "                break\n",
    "        print(\"R peaks outside of the last chunk located\")\n",
    "\n",
    "        # Delineate an ending chunk of like 20000 indices that gets the end of the\n",
    "        # signal, find R peaks\n",
    "        hi = len(signal)\n",
    "        lo = hi - 20000\n",
    "        xqrs = processing.XQRS(sig=signal[lo:hi], fs=freq)\n",
    "        xqrs.detect(verbose=False)\n",
    "\n",
    "        rpeaks += [ peak for peak in xqrs.qrs_inds if peak > max(rpeaks)]\n",
    "        print(\"Peaks in final chunk located\")\n",
    "\n",
    "        # Grab the time stamps, write them to a file\n",
    "        df.loc[rpeaks, \"time\"].to_csv(\"01-outputs/00-rpeaks/00-rpeaks/rpeaks_\" + namedict[key] + \".csv\", )\n",
    "        print(\"Output file written\")\n",
    "\n",
    "        # Delete all of the variables to save space\n",
    "        del df\n",
    "        del xqrs\n",
    "        del signal\n",
    "        del rpeaks\n",
    "        collect_garbage()\n",
    "\n",
    "        print(str(virtual_memory()[2]) + \" memory usage\")\n",
    "\n",
    "\n"
   ]
  }
 ],
 "metadata": {
  "kernelspec": {
   "display_name": "Python 3",
   "language": "python",
   "name": "python3"
  },
  "language_info": {
   "codemirror_mode": {
    "name": "ipython",
    "version": 3
   },
   "file_extension": ".py",
   "mimetype": "text/x-python",
   "name": "python",
   "nbconvert_exporter": "python",
   "pygments_lexer": "ipython3",
   "version": "3.9.2"
  },
  "orig_nbformat": 4,
  "vscode": {
   "interpreter": {
    "hash": "3b66384013171cdfccbfda8d4f96d2b3b6a10bf536bc42f61d1fe50046d47db0"
   }
  }
 },
 "nbformat": 4,
 "nbformat_minor": 2
}
